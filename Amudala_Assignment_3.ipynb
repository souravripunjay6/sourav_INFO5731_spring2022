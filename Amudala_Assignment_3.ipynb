{
  "cells": [
    {
      "cell_type": "markdown",
      "metadata": {
        "id": "view-in-github",
        "colab_type": "text"
      },
      "source": [
        "<a href=\"https://colab.research.google.com/github/souravripunjay6/sourav_INFO5731_spring2022/blob/main/Amudala_Assignment_3.ipynb\" target=\"_parent\"><img src=\"https://colab.research.google.com/assets/colab-badge.svg\" alt=\"Open In Colab\"/></a>"
      ]
    },
    {
      "cell_type": "markdown",
      "metadata": {
        "id": "USSdXHuqnwv9"
      },
      "source": [
        "# **INFO5731 Assignment Three**\n",
        "\n",
        "In this assignment, you are required to conduct information extraction, semantic analysis based on **the dataset you collected from assignment two**. You may use scipy and numpy package in this assignment."
      ]
    },
    {
      "cell_type": "code",
      "execution_count": 1,
      "metadata": {
        "colab": {
          "base_uri": "https://localhost:8080/"
        },
        "id": "HyKn0FiFF_gY",
        "outputId": "9f57552a-b142-4de1-fcbf-063157324651"
      },
      "outputs": [
        {
          "output_type": "stream",
          "name": "stdout",
          "text": [
            "Requirement already satisfied: transformers in /usr/local/lib/python3.7/dist-packages (4.18.0)\n",
            "Requirement already satisfied: regex!=2019.12.17 in /usr/local/lib/python3.7/dist-packages (from transformers) (2019.12.20)\n",
            "Requirement already satisfied: tokenizers!=0.11.3,<0.13,>=0.11.1 in /usr/local/lib/python3.7/dist-packages (from transformers) (0.11.6)\n",
            "Requirement already satisfied: packaging>=20.0 in /usr/local/lib/python3.7/dist-packages (from transformers) (21.3)\n",
            "Requirement already satisfied: filelock in /usr/local/lib/python3.7/dist-packages (from transformers) (3.6.0)\n",
            "Requirement already satisfied: requests in /usr/local/lib/python3.7/dist-packages (from transformers) (2.23.0)\n",
            "Requirement already satisfied: importlib-metadata in /usr/local/lib/python3.7/dist-packages (from transformers) (4.11.3)\n",
            "Requirement already satisfied: tqdm>=4.27 in /usr/local/lib/python3.7/dist-packages (from transformers) (4.63.0)\n",
            "Requirement already satisfied: huggingface-hub<1.0,>=0.1.0 in /usr/local/lib/python3.7/dist-packages (from transformers) (0.5.1)\n",
            "Requirement already satisfied: sacremoses in /usr/local/lib/python3.7/dist-packages (from transformers) (0.0.49)\n",
            "Requirement already satisfied: numpy>=1.17 in /usr/local/lib/python3.7/dist-packages (from transformers) (1.21.5)\n",
            "Requirement already satisfied: pyyaml>=5.1 in /usr/local/lib/python3.7/dist-packages (from transformers) (6.0)\n",
            "Requirement already satisfied: typing-extensions>=3.7.4.3 in /usr/local/lib/python3.7/dist-packages (from huggingface-hub<1.0,>=0.1.0->transformers) (3.10.0.2)\n",
            "Requirement already satisfied: pyparsing!=3.0.5,>=2.0.2 in /usr/local/lib/python3.7/dist-packages (from packaging>=20.0->transformers) (3.0.7)\n",
            "Requirement already satisfied: zipp>=0.5 in /usr/local/lib/python3.7/dist-packages (from importlib-metadata->transformers) (3.7.0)\n",
            "Requirement already satisfied: certifi>=2017.4.17 in /usr/local/lib/python3.7/dist-packages (from requests->transformers) (2021.10.8)\n",
            "Requirement already satisfied: chardet<4,>=3.0.2 in /usr/local/lib/python3.7/dist-packages (from requests->transformers) (3.0.4)\n",
            "Requirement already satisfied: urllib3!=1.25.0,!=1.25.1,<1.26,>=1.21.1 in /usr/local/lib/python3.7/dist-packages (from requests->transformers) (1.24.3)\n",
            "Requirement already satisfied: idna<3,>=2.5 in /usr/local/lib/python3.7/dist-packages (from requests->transformers) (2.10)\n",
            "Requirement already satisfied: joblib in /usr/local/lib/python3.7/dist-packages (from sacremoses->transformers) (1.1.0)\n",
            "Requirement already satisfied: click in /usr/local/lib/python3.7/dist-packages (from sacremoses->transformers) (7.1.2)\n",
            "Requirement already satisfied: six in /usr/local/lib/python3.7/dist-packages (from sacremoses->transformers) (1.15.0)\n"
          ]
        },
        {
          "output_type": "stream",
          "name": "stderr",
          "text": [
            "/usr/local/lib/python3.7/dist-packages/nltk/twitter/__init__.py:20: UserWarning: The twython library has not been installed. Some functionality from the twitter package will not be available.\n",
            "  warnings.warn(\"The twython library has not been installed. \"\n"
          ]
        },
        {
          "output_type": "stream",
          "name": "stdout",
          "text": [
            "[nltk_data] Downloading package punkt to /root/nltk_data...\n",
            "[nltk_data]   Package punkt is already up-to-date!\n",
            "[nltk_data] Downloading package stopwords to /root/nltk_data...\n",
            "[nltk_data]   Package stopwords is already up-to-date!\n",
            "[nltk_data] Downloading package wordnet to /root/nltk_data...\n",
            "[nltk_data]   Package wordnet is already up-to-date!\n",
            "[nltk_data] Downloading package averaged_perceptron_tagger to\n",
            "[nltk_data]     /root/nltk_data...\n",
            "[nltk_data]   Package averaged_perceptron_tagger is already up-to-\n",
            "[nltk_data]       date!\n",
            "[nltk_data] Downloading package words to /root/nltk_data...\n",
            "[nltk_data]   Package words is already up-to-date!\n"
          ]
        }
      ],
      "source": [
        "!pip install transformers\n",
        "\n",
        "\n",
        "import re\n",
        "import os\n",
        "import time\n",
        "import pickle\n",
        "import string\n",
        "import unicodedata\n",
        "import collections\n",
        "import spacy\n",
        "import pandas as pd\n",
        "import numpy as np\n",
        "from sklearn.feature_extraction.text import CountVectorizer, TfidfVectorizer\n",
        "from sklearn.ensemble import RandomForestClassifier, AdaBoostClassifier, AdaBoostRegressor\n",
        "from sklearn.model_selection import train_test_split\n",
        "from sklearn.base import BaseEstimator, TransformerMixin\n",
        "from sklearn.decomposition import PCA\n",
        "from sklearn.feature_selection import chi2\n",
        "from sklearn.metrics import accuracy_score, confusion_matrix\n",
        "from sklearn.pipeline import Pipeline, make_pipeline\n",
        "from collections import Counter\n",
        "import nltk\n",
        "from nltk.sentiment import SentimentAnalyzer\n",
        "from nltk.classify import NaiveBayesClassifier\n",
        "from nltk.corpus import stopwords\n",
        "from textblob import TextBlob\n",
        "import tensorflow as tf\n",
        "from tensorflow.keras.models import Sequential\n",
        "from tensorflow.keras.layers import Dense\n",
        "from tensorflow.keras.callbacks import EarlyStopping, ModelCheckpoint\n",
        "from gensim.models import Word2Vec\n",
        "from gensim.models.phrases import Phrases, Phraser\n",
        "import transformers\n",
        "import torch\n",
        "import seaborn as sns\n",
        "import matplotlib.pyplot as plt\n",
        "import warnings\n",
        "\n",
        "\n",
        "nltk.download('punkt')\n",
        "nltk.download('stopwords')\n",
        "nltk.download('wordnet')\n",
        "nltk.download('averaged_perceptron_tagger')\n",
        "nltk.download('words')\n",
        "\n",
        "\n",
        "warnings.simplefilter(action='ignore', category=FutureWarning)\n"
      ]
    },
    {
      "cell_type": "code",
      "execution_count": 2,
      "metadata": {
        "colab": {
          "base_uri": "https://localhost:8080/",
          "height": 206
        },
        "id": "90qJnKXIGLri",
        "outputId": "5a762ac2-fc0c-46df-9116-e7f80aeed2e0"
      },
      "outputs": [
        {
          "output_type": "execute_result",
          "data": {
            "text/plain": [
              "                                              Phrase Sentiment\n",
              "0  Purchased this product advertised as fully unl...  Negative\n",
              "1  I was feeling a bit skeptical after I placed m...  Positive\n",
              "2             Phone was not unlocked could it use it  Negative\n",
              "3  The screen came cracked and popped out of the ...  Negative\n",
              "4  Be careful mine had a scratch on screen very s...  Negative"
            ],
            "text/html": [
              "\n",
              "  <div id=\"df-9ae814fa-1720-48ee-a1a7-510dfaf9052d\">\n",
              "    <div class=\"colab-df-container\">\n",
              "      <div>\n",
              "<style scoped>\n",
              "    .dataframe tbody tr th:only-of-type {\n",
              "        vertical-align: middle;\n",
              "    }\n",
              "\n",
              "    .dataframe tbody tr th {\n",
              "        vertical-align: top;\n",
              "    }\n",
              "\n",
              "    .dataframe thead th {\n",
              "        text-align: right;\n",
              "    }\n",
              "</style>\n",
              "<table border=\"1\" class=\"dataframe\">\n",
              "  <thead>\n",
              "    <tr style=\"text-align: right;\">\n",
              "      <th></th>\n",
              "      <th>Phrase</th>\n",
              "      <th>Sentiment</th>\n",
              "    </tr>\n",
              "  </thead>\n",
              "  <tbody>\n",
              "    <tr>\n",
              "      <th>0</th>\n",
              "      <td>Purchased this product advertised as fully unl...</td>\n",
              "      <td>Negative</td>\n",
              "    </tr>\n",
              "    <tr>\n",
              "      <th>1</th>\n",
              "      <td>I was feeling a bit skeptical after I placed m...</td>\n",
              "      <td>Positive</td>\n",
              "    </tr>\n",
              "    <tr>\n",
              "      <th>2</th>\n",
              "      <td>Phone was not unlocked could it use it</td>\n",
              "      <td>Negative</td>\n",
              "    </tr>\n",
              "    <tr>\n",
              "      <th>3</th>\n",
              "      <td>The screen came cracked and popped out of the ...</td>\n",
              "      <td>Negative</td>\n",
              "    </tr>\n",
              "    <tr>\n",
              "      <th>4</th>\n",
              "      <td>Be careful mine had a scratch on screen very s...</td>\n",
              "      <td>Negative</td>\n",
              "    </tr>\n",
              "  </tbody>\n",
              "</table>\n",
              "</div>\n",
              "      <button class=\"colab-df-convert\" onclick=\"convertToInteractive('df-9ae814fa-1720-48ee-a1a7-510dfaf9052d')\"\n",
              "              title=\"Convert this dataframe to an interactive table.\"\n",
              "              style=\"display:none;\">\n",
              "        \n",
              "  <svg xmlns=\"http://www.w3.org/2000/svg\" height=\"24px\"viewBox=\"0 0 24 24\"\n",
              "       width=\"24px\">\n",
              "    <path d=\"M0 0h24v24H0V0z\" fill=\"none\"/>\n",
              "    <path d=\"M18.56 5.44l.94 2.06.94-2.06 2.06-.94-2.06-.94-.94-2.06-.94 2.06-2.06.94zm-11 1L8.5 8.5l.94-2.06 2.06-.94-2.06-.94L8.5 2.5l-.94 2.06-2.06.94zm10 10l.94 2.06.94-2.06 2.06-.94-2.06-.94-.94-2.06-.94 2.06-2.06.94z\"/><path d=\"M17.41 7.96l-1.37-1.37c-.4-.4-.92-.59-1.43-.59-.52 0-1.04.2-1.43.59L10.3 9.45l-7.72 7.72c-.78.78-.78 2.05 0 2.83L4 21.41c.39.39.9.59 1.41.59.51 0 1.02-.2 1.41-.59l7.78-7.78 2.81-2.81c.8-.78.8-2.07 0-2.86zM5.41 20L4 18.59l7.72-7.72 1.47 1.35L5.41 20z\"/>\n",
              "  </svg>\n",
              "      </button>\n",
              "      \n",
              "  <style>\n",
              "    .colab-df-container {\n",
              "      display:flex;\n",
              "      flex-wrap:wrap;\n",
              "      gap: 12px;\n",
              "    }\n",
              "\n",
              "    .colab-df-convert {\n",
              "      background-color: #E8F0FE;\n",
              "      border: none;\n",
              "      border-radius: 50%;\n",
              "      cursor: pointer;\n",
              "      display: none;\n",
              "      fill: #1967D2;\n",
              "      height: 32px;\n",
              "      padding: 0 0 0 0;\n",
              "      width: 32px;\n",
              "    }\n",
              "\n",
              "    .colab-df-convert:hover {\n",
              "      background-color: #E2EBFA;\n",
              "      box-shadow: 0px 1px 2px rgba(60, 64, 67, 0.3), 0px 1px 3px 1px rgba(60, 64, 67, 0.15);\n",
              "      fill: #174EA6;\n",
              "    }\n",
              "\n",
              "    [theme=dark] .colab-df-convert {\n",
              "      background-color: #3B4455;\n",
              "      fill: #D2E3FC;\n",
              "    }\n",
              "\n",
              "    [theme=dark] .colab-df-convert:hover {\n",
              "      background-color: #434B5C;\n",
              "      box-shadow: 0px 1px 3px 1px rgba(0, 0, 0, 0.15);\n",
              "      filter: drop-shadow(0px 1px 2px rgba(0, 0, 0, 0.3));\n",
              "      fill: #FFFFFF;\n",
              "    }\n",
              "  </style>\n",
              "\n",
              "      <script>\n",
              "        const buttonEl =\n",
              "          document.querySelector('#df-9ae814fa-1720-48ee-a1a7-510dfaf9052d button.colab-df-convert');\n",
              "        buttonEl.style.display =\n",
              "          google.colab.kernel.accessAllowed ? 'block' : 'none';\n",
              "\n",
              "        async function convertToInteractive(key) {\n",
              "          const element = document.querySelector('#df-9ae814fa-1720-48ee-a1a7-510dfaf9052d');\n",
              "          const dataTable =\n",
              "            await google.colab.kernel.invokeFunction('convertToInteractive',\n",
              "                                                     [key], {});\n",
              "          if (!dataTable) return;\n",
              "\n",
              "          const docLinkHtml = 'Like what you see? Visit the ' +\n",
              "            '<a target=\"_blank\" href=https://colab.research.google.com/notebooks/data_table.ipynb>data table notebook</a>'\n",
              "            + ' to learn more about interactive tables.';\n",
              "          element.innerHTML = '';\n",
              "          dataTable['output_type'] = 'display_data';\n",
              "          await google.colab.output.renderOutput(dataTable, element);\n",
              "          const docLink = document.createElement('div');\n",
              "          docLink.innerHTML = docLinkHtml;\n",
              "          element.appendChild(docLink);\n",
              "        }\n",
              "      </script>\n",
              "    </div>\n",
              "  </div>\n",
              "  "
            ]
          },
          "metadata": {},
          "execution_count": 2
        }
      ],
      "source": [
        "df = pd.read_csv('https://raw.githubusercontent.com/souravripunjay6/Reviews_segmentation/main/reviews_segmentation.csv')\n",
        "df.rename(columns={'Description': 'Phrase'}, inplace=True)\n",
        "df = df.iloc[:, 1:-1]\n",
        "df.head()\n"
      ]
    },
    {
      "cell_type": "markdown",
      "metadata": {
        "id": "YWxodXh5n4xF"
      },
      "source": [
        "# **Question 1: Understand N-gram**"
      ]
    },
    {
      "cell_type": "markdown",
      "metadata": {
        "id": "TenBkDJ5n95k"
      },
      "source": [
        "(45 points). Write a python program to conduct N-gram analysis based on the dataset in your assignment two:\n",
        "\n",
        "(1) Count the frequency of all the N-grams (N=3).\n",
        "\n",
        "(2) Calculate the probabilities for all the bigrams in the dataset by using the fomular count(w2 w1) / count(w2). For example, count(really like) / count(really) = 1 / 3 = 0.33.\n",
        "\n",
        "(3) Extract all the **noun phrases** and calculate the relative probabilities of each review in terms of other reviews (abstracts, or tweets) by using the fomular frequency (noun phrase) / max frequency (noun phrase) on the whole dataset. Print out the result in a table with column name the all the noun phrases and row name as all the 100 reviews (abstracts, or tweets). \n"
      ]
    },
    {
      "cell_type": "code",
      "execution_count": 3,
      "metadata": {
        "ExecuteTime": {
          "end_time": "2020-10-28T05:38:02.101963Z",
          "start_time": "2020-10-28T05:38:01.980003Z"
        },
        "colab": {
          "base_uri": "https://localhost:8080/",
          "height": 206
        },
        "id": "SHUmLOQfBACf",
        "outputId": "44c431bc-0f18-4ada-fb42-eade359cf1e4"
      },
      "outputs": [
        {
          "output_type": "execute_result",
          "data": {
            "text/plain": [
              "                                              Phrase Sentiment\n",
              "0  purchased product advertised fully unlocked in...  Negative\n",
              "1  feeling bit skeptical placed order proven wron...  Positive\n",
              "2                           phone unlocked could use  Negative\n",
              "3  screen came cracked popped frame hopefully ret...  Negative\n",
              "4  careful mine scratch screen small still used p...  Negative"
            ],
            "text/html": [
              "\n",
              "  <div id=\"df-695c5deb-5d1a-47c0-8ff9-37ba6220c4a5\">\n",
              "    <div class=\"colab-df-container\">\n",
              "      <div>\n",
              "<style scoped>\n",
              "    .dataframe tbody tr th:only-of-type {\n",
              "        vertical-align: middle;\n",
              "    }\n",
              "\n",
              "    .dataframe tbody tr th {\n",
              "        vertical-align: top;\n",
              "    }\n",
              "\n",
              "    .dataframe thead th {\n",
              "        text-align: right;\n",
              "    }\n",
              "</style>\n",
              "<table border=\"1\" class=\"dataframe\">\n",
              "  <thead>\n",
              "    <tr style=\"text-align: right;\">\n",
              "      <th></th>\n",
              "      <th>Phrase</th>\n",
              "      <th>Sentiment</th>\n",
              "    </tr>\n",
              "  </thead>\n",
              "  <tbody>\n",
              "    <tr>\n",
              "      <th>0</th>\n",
              "      <td>purchased product advertised fully unlocked in...</td>\n",
              "      <td>Negative</td>\n",
              "    </tr>\n",
              "    <tr>\n",
              "      <th>1</th>\n",
              "      <td>feeling bit skeptical placed order proven wron...</td>\n",
              "      <td>Positive</td>\n",
              "    </tr>\n",
              "    <tr>\n",
              "      <th>2</th>\n",
              "      <td>phone unlocked could use</td>\n",
              "      <td>Negative</td>\n",
              "    </tr>\n",
              "    <tr>\n",
              "      <th>3</th>\n",
              "      <td>screen came cracked popped frame hopefully ret...</td>\n",
              "      <td>Negative</td>\n",
              "    </tr>\n",
              "    <tr>\n",
              "      <th>4</th>\n",
              "      <td>careful mine scratch screen small still used p...</td>\n",
              "      <td>Negative</td>\n",
              "    </tr>\n",
              "  </tbody>\n",
              "</table>\n",
              "</div>\n",
              "      <button class=\"colab-df-convert\" onclick=\"convertToInteractive('df-695c5deb-5d1a-47c0-8ff9-37ba6220c4a5')\"\n",
              "              title=\"Convert this dataframe to an interactive table.\"\n",
              "              style=\"display:none;\">\n",
              "        \n",
              "  <svg xmlns=\"http://www.w3.org/2000/svg\" height=\"24px\"viewBox=\"0 0 24 24\"\n",
              "       width=\"24px\">\n",
              "    <path d=\"M0 0h24v24H0V0z\" fill=\"none\"/>\n",
              "    <path d=\"M18.56 5.44l.94 2.06.94-2.06 2.06-.94-2.06-.94-.94-2.06-.94 2.06-2.06.94zm-11 1L8.5 8.5l.94-2.06 2.06-.94-2.06-.94L8.5 2.5l-.94 2.06-2.06.94zm10 10l.94 2.06.94-2.06 2.06-.94-2.06-.94-.94-2.06-.94 2.06-2.06.94z\"/><path d=\"M17.41 7.96l-1.37-1.37c-.4-.4-.92-.59-1.43-.59-.52 0-1.04.2-1.43.59L10.3 9.45l-7.72 7.72c-.78.78-.78 2.05 0 2.83L4 21.41c.39.39.9.59 1.41.59.51 0 1.02-.2 1.41-.59l7.78-7.78 2.81-2.81c.8-.78.8-2.07 0-2.86zM5.41 20L4 18.59l7.72-7.72 1.47 1.35L5.41 20z\"/>\n",
              "  </svg>\n",
              "      </button>\n",
              "      \n",
              "  <style>\n",
              "    .colab-df-container {\n",
              "      display:flex;\n",
              "      flex-wrap:wrap;\n",
              "      gap: 12px;\n",
              "    }\n",
              "\n",
              "    .colab-df-convert {\n",
              "      background-color: #E8F0FE;\n",
              "      border: none;\n",
              "      border-radius: 50%;\n",
              "      cursor: pointer;\n",
              "      display: none;\n",
              "      fill: #1967D2;\n",
              "      height: 32px;\n",
              "      padding: 0 0 0 0;\n",
              "      width: 32px;\n",
              "    }\n",
              "\n",
              "    .colab-df-convert:hover {\n",
              "      background-color: #E2EBFA;\n",
              "      box-shadow: 0px 1px 2px rgba(60, 64, 67, 0.3), 0px 1px 3px 1px rgba(60, 64, 67, 0.15);\n",
              "      fill: #174EA6;\n",
              "    }\n",
              "\n",
              "    [theme=dark] .colab-df-convert {\n",
              "      background-color: #3B4455;\n",
              "      fill: #D2E3FC;\n",
              "    }\n",
              "\n",
              "    [theme=dark] .colab-df-convert:hover {\n",
              "      background-color: #434B5C;\n",
              "      box-shadow: 0px 1px 3px 1px rgba(0, 0, 0, 0.15);\n",
              "      filter: drop-shadow(0px 1px 2px rgba(0, 0, 0, 0.3));\n",
              "      fill: #FFFFFF;\n",
              "    }\n",
              "  </style>\n",
              "\n",
              "      <script>\n",
              "        const buttonEl =\n",
              "          document.querySelector('#df-695c5deb-5d1a-47c0-8ff9-37ba6220c4a5 button.colab-df-convert');\n",
              "        buttonEl.style.display =\n",
              "          google.colab.kernel.accessAllowed ? 'block' : 'none';\n",
              "\n",
              "        async function convertToInteractive(key) {\n",
              "          const element = document.querySelector('#df-695c5deb-5d1a-47c0-8ff9-37ba6220c4a5');\n",
              "          const dataTable =\n",
              "            await google.colab.kernel.invokeFunction('convertToInteractive',\n",
              "                                                     [key], {});\n",
              "          if (!dataTable) return;\n",
              "\n",
              "          const docLinkHtml = 'Like what you see? Visit the ' +\n",
              "            '<a target=\"_blank\" href=https://colab.research.google.com/notebooks/data_table.ipynb>data table notebook</a>'\n",
              "            + ' to learn more about interactive tables.';\n",
              "          element.innerHTML = '';\n",
              "          dataTable['output_type'] = 'display_data';\n",
              "          await google.colab.output.renderOutput(dataTable, element);\n",
              "          const docLink = document.createElement('div');\n",
              "          docLink.innerHTML = docLinkHtml;\n",
              "          element.appendChild(docLink);\n",
              "        }\n",
              "      </script>\n",
              "    </div>\n",
              "  </div>\n",
              "  "
            ]
          },
          "metadata": {},
          "execution_count": 3
        }
      ],
      "source": [
        "# clean the reviews\n",
        "stop = stopwords.words('english')\n",
        "df.Phrase = df.Phrase.apply(lambda x: x.replace(r'\"', ''))\n",
        "df.Phrase = df.Phrase.apply(\n",
        "    lambda x: x.replace(r'[\\n\\n\\n\\n\\n\\n\\n\\n\\n\\n  \\n  \\n    , \\n  ', ''))\n",
        "df.Phrase = df.Phrase.apply(\n",
        "    lambda x: x.replace(r'\\n, \\n  \\n]', ''))\n",
        "df.Phrase = df.Phrase.apply(lambda x: x.lower())\n",
        "df.Phrase = df.Phrase.apply(lambda x: re.sub(r'\\w*\\d', '', x))\n",
        "df.Phrase = df.Phrase.str.replace('[^\\w\\s]', '')\n",
        "df.Phrase = df.Phrase.apply(\n",
        "    lambda x: ' '.join(x for x in x.split() if x not in stop))\n",
        "df.head()"
      ]
    },
    {
      "cell_type": "code",
      "execution_count": 4,
      "metadata": {
        "ExecuteTime": {
          "end_time": "2020-10-28T05:38:02.180944Z",
          "start_time": "2020-10-28T05:38:02.152948Z"
        },
        "id": "tMFqSaGJBACh"
      },
      "outputs": [],
      "source": [
        "text = df.Phrase.values\n",
        "text = ' '.join([review for review in text])"
      ]
    },
    {
      "cell_type": "markdown",
      "metadata": {
        "ExecuteTime": {
          "end_time": "2020-10-28T04:06:48.126795Z",
          "start_time": "2020-10-28T04:06:48.113803Z"
        },
        "id": "UvgaZxF-BACi"
      },
      "source": [
        "\n",
        "\n",
        "1. Count the frequency of all the N-grams (N=3)\n",
        "\n",
        "\n"
      ]
    },
    {
      "cell_type": "code",
      "execution_count": 5,
      "metadata": {
        "colab": {
          "base_uri": "https://localhost:8080/",
          "height": 423
        },
        "id": "EYR-U_wYPGwG",
        "outputId": "da405204-8002-4675-af1e-faf332f4ebf7"
      },
      "outputs": [
        {
          "output_type": "execute_result",
          "data": {
            "text/plain": [
              "                                   Frequency\n",
              "(bought, phone, months)                    1\n",
              "(go, ahead, purchase)                      1\n",
              "(phone, checking, sim)                     1\n",
              "(contacted, service, provider)             1\n",
              "(comparison, sloppy, looked)               1\n",
              "...                                      ...\n",
              "(phone, used, visible)                     1\n",
              "(headphone, jack, crucial)                 1\n",
              "(says, internationally, unlocked)          1\n",
              "(left, reviews, reviews)                   1\n",
              "(amazon, get, everything)                  1\n",
              "\n",
              "[100 rows x 1 columns]"
            ],
            "text/html": [
              "\n",
              "  <div id=\"df-33009eb9-b4f8-4941-839d-c7de5cb27f52\">\n",
              "    <div class=\"colab-df-container\">\n",
              "      <div>\n",
              "<style scoped>\n",
              "    .dataframe tbody tr th:only-of-type {\n",
              "        vertical-align: middle;\n",
              "    }\n",
              "\n",
              "    .dataframe tbody tr th {\n",
              "        vertical-align: top;\n",
              "    }\n",
              "\n",
              "    .dataframe thead th {\n",
              "        text-align: right;\n",
              "    }\n",
              "</style>\n",
              "<table border=\"1\" class=\"dataframe\">\n",
              "  <thead>\n",
              "    <tr style=\"text-align: right;\">\n",
              "      <th></th>\n",
              "      <th>Frequency</th>\n",
              "    </tr>\n",
              "  </thead>\n",
              "  <tbody>\n",
              "    <tr>\n",
              "      <th>(bought, phone, months)</th>\n",
              "      <td>1</td>\n",
              "    </tr>\n",
              "    <tr>\n",
              "      <th>(go, ahead, purchase)</th>\n",
              "      <td>1</td>\n",
              "    </tr>\n",
              "    <tr>\n",
              "      <th>(phone, checking, sim)</th>\n",
              "      <td>1</td>\n",
              "    </tr>\n",
              "    <tr>\n",
              "      <th>(contacted, service, provider)</th>\n",
              "      <td>1</td>\n",
              "    </tr>\n",
              "    <tr>\n",
              "      <th>(comparison, sloppy, looked)</th>\n",
              "      <td>1</td>\n",
              "    </tr>\n",
              "    <tr>\n",
              "      <th>...</th>\n",
              "      <td>...</td>\n",
              "    </tr>\n",
              "    <tr>\n",
              "      <th>(phone, used, visible)</th>\n",
              "      <td>1</td>\n",
              "    </tr>\n",
              "    <tr>\n",
              "      <th>(headphone, jack, crucial)</th>\n",
              "      <td>1</td>\n",
              "    </tr>\n",
              "    <tr>\n",
              "      <th>(says, internationally, unlocked)</th>\n",
              "      <td>1</td>\n",
              "    </tr>\n",
              "    <tr>\n",
              "      <th>(left, reviews, reviews)</th>\n",
              "      <td>1</td>\n",
              "    </tr>\n",
              "    <tr>\n",
              "      <th>(amazon, get, everything)</th>\n",
              "      <td>1</td>\n",
              "    </tr>\n",
              "  </tbody>\n",
              "</table>\n",
              "<p>100 rows × 1 columns</p>\n",
              "</div>\n",
              "      <button class=\"colab-df-convert\" onclick=\"convertToInteractive('df-33009eb9-b4f8-4941-839d-c7de5cb27f52')\"\n",
              "              title=\"Convert this dataframe to an interactive table.\"\n",
              "              style=\"display:none;\">\n",
              "        \n",
              "  <svg xmlns=\"http://www.w3.org/2000/svg\" height=\"24px\"viewBox=\"0 0 24 24\"\n",
              "       width=\"24px\">\n",
              "    <path d=\"M0 0h24v24H0V0z\" fill=\"none\"/>\n",
              "    <path d=\"M18.56 5.44l.94 2.06.94-2.06 2.06-.94-2.06-.94-.94-2.06-.94 2.06-2.06.94zm-11 1L8.5 8.5l.94-2.06 2.06-.94-2.06-.94L8.5 2.5l-.94 2.06-2.06.94zm10 10l.94 2.06.94-2.06 2.06-.94-2.06-.94-.94-2.06-.94 2.06-2.06.94z\"/><path d=\"M17.41 7.96l-1.37-1.37c-.4-.4-.92-.59-1.43-.59-.52 0-1.04.2-1.43.59L10.3 9.45l-7.72 7.72c-.78.78-.78 2.05 0 2.83L4 21.41c.39.39.9.59 1.41.59.51 0 1.02-.2 1.41-.59l7.78-7.78 2.81-2.81c.8-.78.8-2.07 0-2.86zM5.41 20L4 18.59l7.72-7.72 1.47 1.35L5.41 20z\"/>\n",
              "  </svg>\n",
              "      </button>\n",
              "      \n",
              "  <style>\n",
              "    .colab-df-container {\n",
              "      display:flex;\n",
              "      flex-wrap:wrap;\n",
              "      gap: 12px;\n",
              "    }\n",
              "\n",
              "    .colab-df-convert {\n",
              "      background-color: #E8F0FE;\n",
              "      border: none;\n",
              "      border-radius: 50%;\n",
              "      cursor: pointer;\n",
              "      display: none;\n",
              "      fill: #1967D2;\n",
              "      height: 32px;\n",
              "      padding: 0 0 0 0;\n",
              "      width: 32px;\n",
              "    }\n",
              "\n",
              "    .colab-df-convert:hover {\n",
              "      background-color: #E2EBFA;\n",
              "      box-shadow: 0px 1px 2px rgba(60, 64, 67, 0.3), 0px 1px 3px 1px rgba(60, 64, 67, 0.15);\n",
              "      fill: #174EA6;\n",
              "    }\n",
              "\n",
              "    [theme=dark] .colab-df-convert {\n",
              "      background-color: #3B4455;\n",
              "      fill: #D2E3FC;\n",
              "    }\n",
              "\n",
              "    [theme=dark] .colab-df-convert:hover {\n",
              "      background-color: #434B5C;\n",
              "      box-shadow: 0px 1px 3px 1px rgba(0, 0, 0, 0.15);\n",
              "      filter: drop-shadow(0px 1px 2px rgba(0, 0, 0, 0.3));\n",
              "      fill: #FFFFFF;\n",
              "    }\n",
              "  </style>\n",
              "\n",
              "      <script>\n",
              "        const buttonEl =\n",
              "          document.querySelector('#df-33009eb9-b4f8-4941-839d-c7de5cb27f52 button.colab-df-convert');\n",
              "        buttonEl.style.display =\n",
              "          google.colab.kernel.accessAllowed ? 'block' : 'none';\n",
              "\n",
              "        async function convertToInteractive(key) {\n",
              "          const element = document.querySelector('#df-33009eb9-b4f8-4941-839d-c7de5cb27f52');\n",
              "          const dataTable =\n",
              "            await google.colab.kernel.invokeFunction('convertToInteractive',\n",
              "                                                     [key], {});\n",
              "          if (!dataTable) return;\n",
              "\n",
              "          const docLinkHtml = 'Like what you see? Visit the ' +\n",
              "            '<a target=\"_blank\" href=https://colab.research.google.com/notebooks/data_table.ipynb>data table notebook</a>'\n",
              "            + ' to learn more about interactive tables.';\n",
              "          element.innerHTML = '';\n",
              "          dataTable['output_type'] = 'display_data';\n",
              "          await google.colab.output.renderOutput(dataTable, element);\n",
              "          const docLink = document.createElement('div');\n",
              "          docLink.innerHTML = docLinkHtml;\n",
              "          element.appendChild(docLink);\n",
              "        }\n",
              "      </script>\n",
              "    </div>\n",
              "  </div>\n",
              "  "
            ]
          },
          "metadata": {},
          "execution_count": 5
        }
      ],
      "source": [
        "def get_ngram(num):\n",
        "  ngram_dict = {}\n",
        "\n",
        "  for review in df.Phrase:\n",
        "    ngram_list = TextBlob(review).ngrams(num)\n",
        "    if(len(ngram_list) > 0):\n",
        "      for ngram in ngram_list:\n",
        "        ngram_key = tuple(ngram)\n",
        "        if ngram_key in ngram_dict:\n",
        "          ngram_dict[ngram_key] += 1\n",
        "        else:\n",
        "          ngram_dict[ngram_key] = 1\n",
        "  return(ngram_dict)\n",
        "\n",
        "ngram_num = 3\n",
        "trigram_dict = get_ngram(ngram_num)\n",
        "trigram = pd.DataFrame.from_dict(trigram_dict, orient='index', columns=['Frequency'])\n",
        "trigram.sample(100)"
      ]
    },
    {
      "cell_type": "markdown",
      "metadata": {
        "id": "Pd4MbLQdBACk"
      },
      "source": [
        "2. Calculate the probabilities for all the bigrams in the dataset by using the fomular count(w2 w1) / count(w2). For example, count(really like) / count(really) = 1 / 3 = 0.33."
      ]
    },
    {
      "cell_type": "code",
      "execution_count": 6,
      "metadata": {
        "colab": {
          "base_uri": "https://localhost:8080/"
        },
        "id": "C4NIMNIFO1J1",
        "outputId": "740c827a-362e-4a7f-d1a3-537f7baa0fa0"
      },
      "outputs": [
        {
          "output_type": "stream",
          "name": "stdout",
          "text": [
            "                       Bi-grams Probability\n",
            "(purchased, product)               0.027778\n",
            "(product, advertised)              0.015873\n",
            "(advertised, fully)                0.090909\n",
            "(fully, unlocked)                  0.625000\n",
            "(unlocked, inserted)               0.014085\n",
            "...                                     ...\n",
            "(thats, well)                      0.043478\n",
            "(well, charge)                     0.021277\n",
            "(charge, holds)                    0.041667\n",
            "(holds, im)                        0.250000\n",
            "(really, glad)                     0.020000\n",
            "\n",
            "[11704 rows x 1 columns]\n"
          ]
        }
      ],
      "source": [
        "bigram_dict = get_ngram(2)\n",
        "unigram_dict = get_ngram(1)\n",
        "\n",
        "bigram_prob = {}\n",
        "for bigram in bigram_dict:\n",
        "  word = tuple((bigram[0],))\n",
        "  count_bi = bigram_dict[bigram]\n",
        "  count_uni = unigram_dict[word]\n",
        "  prob = count_bi / count_uni\n",
        "  bigram_prob[bigram] = prob\n",
        "\n",
        "bigram_df = pd.DataFrame.from_dict(bigram_prob, orient='index', columns=['Bi-grams Probability'])\n",
        "print(bigram_df)"
      ]
    },
    {
      "cell_type": "markdown",
      "metadata": {
        "id": "I3dDDg08BACl"
      },
      "source": [
        "(3) Extract all the noun phrases and calculate the relative probabilities of each review in terms of other reviews (abstracts, or tweets) by using the fomular frequency (noun phrase) / max frequency (noun phrase) on the whole dataset. Print out the result in a table with column name the all the noun phrases and row name as all the 100 reviews (abstracts, or tweets)."
      ]
    },
    {
      "cell_type": "code",
      "execution_count": 7,
      "metadata": {
        "id": "8G_KLPTyOLb3",
        "colab": {
          "base_uri": "https://localhost:8080/",
          "height": 461
        },
        "outputId": "5dc590a5-1e07-401f-a916-26f8bf795f89"
      },
      "outputs": [
        {
          "output_type": "stream",
          "name": "stdout",
          "text": [
            "['Phrase', 'product', 'fully unlocked inserted sim card work contacted service provider', 'imei number', 'phone', 'good condition', 'service provider', 'feeling bit skeptical placed order', 'minimal light', 'almost impossible notice battery life', 'screen', 'popped frame hopefully return process', 'people', 'used phones', 'best experience', 'renewed phone phone', 'original box original charger cable phone', 'excellent one scratch', 'absolutely beautiful battery health', 'seller gooverstock', 'longest time', 'upgraded iphone iphone', 'places online price way price point', 'comfortable buying phone amazon', 'box', 'ear phones phone', 'set apps', 'wanna', 'everybody', 'scam phone', 'amazing great battery life', 'i', 'everything', 'iphone box', 'charger', 'phone', 'reviews', 'brand', 'new unlocked', 'i', 'm paired cricket', 'everything', 'new\\niphone', 'big scuff corner aluminum frame', 'small really noticible scratch front back phone', 'product red unlocked iphone', 'verizon unlocked phone phone', 'original apple brick', 'tmobile sim phone', 'working data', 'anything', 'phone start', 'thats sad phone looks', 'new', 'little nervous buying refurbished phone internet', 'phone', 'new condition', 'great carrier general', 'charger charging block mentioned description', 'screen protector', 'screen', 'much appreciated touch', 'day', 'warranty free returns case', 'something', 'i', 'anyone', 'disappointed purchase price brand', 'new apple iphone phone deep scratches screen', 'earphones apple charging cord', 'sticker', 'apple charger', 'install cloud', 'iphones', 'online good price', 'dont complaints', 'charger', 'headphones', 'classic iphone packaging', 'bug people', 'headphones', 'amazon', 'minor cosmetic issue', 'however decent size mark volume button volume button function', 'properly contacted amazon seller', 'phone tech exchange ear speaker phone work', 'phone speaker phone', 'phone call', 'speakerphone', 'every th word', 'phone call', 'one numbers dial number pack', 'side button', 'sound screen', 'weird highpitched sound', 'stopping seconds', 'phone', 'make', 'call speakerphone', 'i', 'refurbished phone chat amazon', 'handle seller', 'replacement phone return policy', 'return phone', 'two weeks', 'refund money', 'call refund', 'phone weeks power button', 'working seller', 'iphone', 'twoday delivery box', 'fedex bag', 'fedex bag', 'untouched presume', 'sealing bag phone', 'usage screen', 'nice touch generic certified usb cable charger earphones', 'battery life', 'i', 'im math', 'still high price', 'generic stuff', 'original charger cable earpods connector total price', 'brand new phone', 'great product', 'new\\nfully unlocked compatible carrier choice false statement', 'amazon', 'phone paper', 'box', 'compatible sprint boost mobile', 'one carriers', 'info', 'old phone new phone mailing phone', 'switch carriers', 'additional pain buyspry end', 'purchased iphone', 'unlocked always owned unlocked iphones', 'live guatemala iphone', 'sim card', 'video issue sim card', 'old unlocked iphone', 'usa', 'product complete scam', 'excelente', 'muy buena la cmara lo recomiendo', 'son', 'phone problems', 'anything', 'perfect brand new apple box', 'phone', 'expectedand', 'generic box apple compatible charger cable scratches imperfections', 'time battery capacity', 'brand new device', 'every things', 'right battery', 'capacity', 'fedex', 'color device storage', 'scratches bare screen prove', 'peeled screen protector', 'tempered glass', 'one', 'they', 'invisible screen protector phone lighting', 'i', 'm happy doubts buying phone', 'enough reviews', 'unboxing experience', 'buying brand new earbuds', 'i', 'm happy', 'discount', 'parts', 'something', 'bucks thing', 'didnt show', 'also battery life', 'big change', 'iphone cheapest really close selling point', 'warranty refund policy', 'amazon', 'prime', 'everything', 'iphone flawlessly plus phone cosmetic issues', 'brand', 'iphone', 'phone', 'nice bonus difference companies', 'unlocked iphones', 'normal cardboard boxes', 'work', 'i', 'satisfied functionality', 'earphones', 'product specific seller experience', 'nothing', 'scratches glass display mention', 'glass camera lenses', 'either far phone', 'im android person', 'first smartphone', 'iphone', 'couple generations', 'i', 'device', 'iphone', 'full star review', 'android gang', 'scam repeat scam love iphones', 'single mom', 'need', 'beable', 'touch school grandpa', 'anything', 'i', 'phone scratches dings', 'brand', 'new works', 'new', 'screen protector love battery capacity killer deal price', 'two days amazon', 'prime', 'open box item', 'seller', 'ok', 'somewhat blurry pics shaky hands battery health', 'super tiny little nick top', 'shine camera directly area', 'headphones', 'already airpods', 'something', 'mind purchase', 'amazon', 'dope', 'pleased phone', 'screen protector', 'brand new battery skeptical bunch star reviews', 'day guarantee return', 'scared deal', 'black gb unlocked iphone fyi', 'used phone', 'i', 'carrier', 'money', 'unlocked phone', 'little nervous research', 'risk', 'time', 'full refund', 'didnt work phone', 'perfect condition', 'new', 'difference phone brand', 'new one', 'i', 'days', 'i', 'issues', 'risk', 'great phones', 'one daughter', 'iphone', 'currently right shut', 'every mins', 'multiple times contact carrier', 'nothing', 'phone', 'atleast phone conversation', 'money', 'phone', 'better technician works phones', 'cause', 'apple', 's', 'ab technician', 'disappointed excited feel', 'messages', 'anyone', 'iphone power button', 'often times siri', 'way', 'issue', 'phone seller', 'i', 'company', 'part', 'everything', 'okay different parts screen', 'unlock phone', 'nd', 'bottom right corner', 'punctuation', 'autocorrect contacted company', 'hard reset work', 'hard reset phone', 'work', 'seven hundred dollars', 'numerical characters', 'update', 'advice', 'amazing buy kiss electronics issues phone operation', 'setup', 'adapter charging cable headset iphone product red body good condition', 'upper corner', 'happy purchase', 'absolutely happy purchase', 'i', 'reviews ready order right thing battery health', 'others', 'nothing', 'new battery time', 'pictures phone great condition annnndddd', 'm digging picture quality', 'cute case', 'charger', 'you', 'phone', 'i', 'm day', 'i', 'excited update', 'im month phone', 'great issues', 'iphones amazon', 'phone', 'hands', 'amazon', 'everything', 'reliable phone', 'apple iphone box box charger headphones', 'less wanted phone works', 'difference', 'friends family', 'new phone', 'amazing deal', 'months phone', 'completely dead charge', 'apple store', 'issues', 'past return date', 'amazon', 'product', 'refund', 'something', 'days', 'window', 'bs', 'scratches damage screen matter', 'part phone happy', 'plunge', 'phone', 'far scratches dents', 'battery capacity', 'everything', 'apple iphone', 'red', 'brand new one barely noticeable scratch screen tiny scratch side notice', 'really close face', 'i', 'i', 'phone hours', 'really well fast battery', 'unusual changes', 'future ill update review doubt', 'perfect condition', 'fast shipping packaging', 'great\\ncamera', 'slightly scratched overall good purchase', 'refurbished phone', 'original box phone good shape skeptical buying phone amazon', 'first time', 'way', 'it', 'work carrier', 'screen protector', 'nice touch', 'really happy product update month', 'really great batter life long charges', 'slight micro scratch screen overall good condition open box', 'perfect condition', 'nothing', 'one thing', 'app', 'something', 'story discards seconds', 'earphones', 'people', 'iphone headphone jack crucial buy phones', 'everything', 'new', 'play games change music', 'i', 'download app', 'phone', 'video online insert sim card iphone', 'apple repeat use instructions', 'android apple', 'phone need apple', 'save contacts', 'even saving contacts', 'sim card', 'none', 'quality controlled point inspection indicators', 'every product', 'brand buyspry name', 'one lucky ones', 'second hand', 'product functions', 'assurance guarantee', 'initial return period', 'even small issue', 'addressed issue', 'almost devices', 'break days personal case', 'iphone', 'week normal use', 'critical issue customer service', 'respond recent message', 'email', 'speaking phone stated resolution', 'device hope', 'lucky case exchange', 'brace', 'times', 'new product chance', 'groundhog day hope', 'working product', 'overall enterprise business solution', 'reserves replacement increase service ability', 'new product', 'broken product', 'customers', 'issue', 'customers', 'loaner device', 'reputation', 'tallest room short people', 'confidence premise right buy organization plan gift', 'one favor', 'buysrys mediocre business risk', 'something', 'new cheapskate good luck', 'phone', 'renewed phone', 'i', 'm happy say', 'brand new dents', 'i', 'm happy made choice', 'apple website', 'chance', 'buy phone phone', 'different box charger fyi', 'everything', 'renewed status phone iphone', 'previously purchased renewed galaxy phone amazon phone practically new small fraction price', 'original box accessories', 'it', 'last experience', 'iphone', 'visibly used scratches littering sides phone', 'deep cracks screen batterys health lower side phone', 'generic box generic accessories', 'item description', 'renewed price', 'poor deal', 'period phone', 'needed minutes', 'new phone apple', 'dislike', 'everything', 'phone crack screen', 'big deal something', 'boyfriends phone', 'different one biggest problem phone', 'accident', 'airpods', 'return phone shipping label', 'you', 'new phone apple', 'paid phone unlocked apple', 'money', 'i', 'i', 'true skeptic regularly conduct extensive research making type purchase phone', 'original packaging cord wall', 'apple products', 'usb connection wall adapter bent', 'trash', 'product care phone', 'start process', 'entire phone', 'hour way', 'i', 'days battery life', 'strong features', 'perfectly sticky buttons', 'vendor care', 'iphone', 'you', 'concerned packaging uniquely apple experience', 'additional apple store', 'little hesitant buy renewed phone end', 'im super glad phone', 'screen protector', 'transfer old simple', 'apple watch', 'transferred cameras', 'great face', 'id issues', 'i', 'dang', 'much money scam', 'im happy results battery health phone perfect condition', 'new charger headphones', 'trouble', 'data old phone', 'new one', 'call carrier turn phone', 'sim card', 'price', 'lol', 'phone', 'scratches', 'screen protector', 'screen protector', 'bubbles', 'bubbles', 'overall good guess', 'i', 'm satisfied guess price', 'mail', 'kinda mess', 'recognition', 'fine battery fine setup good', 'mins', 'cheapest iphone gb', 'online alot', 'refurbish', 'brand new apple box', 'original charger', 'plug', 'phone', 'great condition', 'great lag issues battery life', 'i', 'happy quality phone', 'i', 'm happy purchase', 'product', 'timely fashion', 'charger headset', 'charger original', 'price', 'great deal phone great condition', 'honesty', 'days', 'exactly promised phone', 'brand new everything', 'thrilled phone size', 'larger phones', 'contacted seller refund kindly instructed return item order', 'full refund', 'card far good complaints', 'people', 'paid screen', 'bought shop\\nbit skeptical buying iphone renewed amazon', 'new worries', 'damages battery health', 'official iphone box earphones', 'working chargerpower adapter screen protector', 'iphone', 'already satisfied purchase', 'loaded pictures phone', 'iphone', 'wait hours', 'everything', 'set message', 'phone screen', 'authentic hope review evidence', 'y', 'phone program', 'phone', 'another chance', 'definitely phone', 'side lock button', 's phone', 'complete activation', 'phone proper activation', 'work', 'screen protector phone case iphone work', 'four days phone', 'conversation phone', 'phone people', 'shortly phone', 'call', 'facetime front camera glitching video', 'i', 'enough phone', 'phone taking screen protector case', 'new sims card return phone', 'phone amazon times phones defects', 'wanna', 'phones', 'third people', 'reviews', 'phone care fix phones', 's', 'they', 'dummy', 'phone', 'refund', 'phone', 'one star phone', 'nice back pictures', 'glass sides phone', 'aftermarket', 'phone', 'extra money', 'face', 'id work', 'everything', 'dis seller', 'looking amazon', 'iphones', 'couple weeks skeptical ordering renewed phone', 'iphone xr', 'iphone', 'cart', 'couple hours', 'checked tracking info day', 'saw review', 'bad decision prepared disappointment', 'battery', 'charger', 'concerned minutes', 'enough battery power', 'bought brand new cosmetic flaws', 'phone', 'blurred vertical lines amazon', 'deal seller', 'communication seller', 'questions', 'phone back seller', 'restocking fee force amazon deal', 'even screen protector', 'edit seller', 'copy report', 'components oem', 'quality control reseller', 'angled inspection phone', 'amazing barely scratches case screen', 'wonderful held angle', 'video clip', 'warbled screen', 'obviously nonoem quality replacement job', 'job seller applying screen protectors', 'horribly noticeable protector', 'leaving bubbles', 'underlying screen', 'smooth disaster waste protectors', 'sad part nd', 'phone first original glass', 'different seller lesson', 'learned spend', 'new applecom', 'old phone outdated iphone', 'many problems', 'much research looking type new phone', 'old phone', 'honestly best purchase', 'wanna', 'samsung', 'i', 'used home button', 'best part', 'iphone', 'straight talk', 'i', 'iphone son', 'buyspry', 'expensive digital camera ipod phone august contacted phone service provider xfinity mobile', 'phone flagged asia', 'nobody', 'phone system contact buyspry', 'imei', 'ghosted us', 'return window son', 'money', 'leave star', 'phone mail', 'apple call mins', 'phone', 'either needless', 'phone', 'chance use', 'great phone', 'two days great upgrade plus adorable delivered door', 'apple store', 'buy amazon', 'mind items', 'someone', 'chips based experience', 'huge chance', 'repaired phone opened water resistant seal', 'water resistant rating phones', 'small chance', 'good thing', 'extended day return policy', 'amazon', 'returns amazon', 'unlocked new phones', 'route', 'cracks beautiful upgraded iphone', 'wonderful transition easy transfer info', 'quick shipping', 'day', 'phone', 'providers', 'attention star ratings', 'pros phone great condition', 'well cons', 'weird hardware configuration', 'providers', 'verizon network', 'phone', 'sprint', 'didnt work', 'sprint contacted sellers support', 'lots', 'things', 'long enough return window pass', 'properly returned phone', 'another\\nperfect condition', 'cable earphones description', 'great purchase', 'write review\\nphone great condition', 'screen screen noticeable damage deep scratches', 'guess', 'dealing w', 'new thing', 'original boxing', 'didnt even last three months screen', 'refurbished seller', 'refund', 'im mad upset busted iphone rip', 'product broken phone', 'anything', 'excellent shape', 'brand new battery health', 'perfectly padded charging cord wall', 'great buy', 'first phone', 'scratched area screen size quarter', 'replacement', 'problem amazon', 'second iphone', 'literally scratched area', 'one', 'phone based scratched area', 'screen protector', 'minimized scratches', 'part refurb process', 'something', 'better qc', 'another time', 'phone', 'stars good price responsive seller amazon', 'good work wifes phone', 'another seller', 'scratch issue battery life', 'scratched screen kinda big deal', 'screen phone', 'finger nail', 'first time', 'phone online upgraded iphone product', 'exactly advertised works', 'skeptical buying', 'great problems', 'quick\\nphone', 'excellent condition', 'new iphone', 'im feeling', 'new iphone apple', 'first glance phone', 'screen protector', 'noticeable scratchesdamages phone', 'phone', 'one first things', 'loud sound sound quality audio low mute notification rings', 'first phone call', 's', 'difficult hear', 'person phone switch speaker', 'wrong place', 'i', 'battery', 'battery', 'health', 'i', 'phone hours', 'questionable thing', 'audio issue', 'disappointed purchase', 'requested exchange phone', 'reset times', 'redo', 'wifi password settings', 'country prompts', 'return process', 'props', 'exchange item exact phone', 'small set scuffs', 'top right hand corner', 'wanted color', 'white better option', 'little back sticker', 'phones', 'they', 'random dustgunk kind accumulates', 'fancy gold charging cord', 'renewed phone', 'one', 'overpriced base prices phone', 'charge phones', 'i', 'battery life', 'iphone', 'battery life', 'high hopes', 'would fine order renewed order time', 'different phone', 'i', 'lesson', 'speakers', 'phone', 'phone noticed pits', 'phone biggie', 'case', 'sim card existing boost iphone phone', 'service top corner phone', 'boost website', 'activate noticed phone', 'order boost', 'wont issues', 'transfer sim card existing phone', 'little scared buy phone line', 'mail', 'side touch screen', 'disappointed purchase', 'awful frustrating month long experience', 'ton grief aggravation', 'phone whole experience tragic phone absolute complete total piece', 'worthless junk key board', 'froze muted', 'initiated return process hassle', 'everything', 'reverse process', 'phone possessed contacted company big solution', 'phone local repair shop', 'pair shoes', 'estimate', 'repair cost estimate likingno way', 'ludacris absurd solution', 'amazon customer service', 'phone calls', 'nice drive phone minutes ups drop spot', 'refund full price paid call amazon agian', 'get fully rectified even amazon representative', 'totally bogus response proposed solution seller', 'future lesson', 'dont waste time company', 'junk', 'hard possible return', 'black friday point', 'iphone renewed product', 'amazon iphone dealer kid', 'couple hundred dollars', 'amazon gift cards cash birthday', 'new phone', 'contract purchasing best bet', 'amazon renewed program', 'good deal gift cards', 'defray cost', 'perfect condition', 'warranty extra protection', 'metro pcs tmobile', 'hitch use renewed program', 'new phone able purchase case', 'shield change', 'quite skeptical buying iphone mine', 'mail suspicions', 'new tiny scratches battery life', 'everything', 'phone practically new absolutely signs', 'tiny scuff', 'flash back phone', 'usability barely noticeable battery capacity', 'packaged generic box generic charger', 'already screen protector phone able set carrier', 'straight talk transfer information', 'current iphone', 'one move sim card current phone one process', 'min', 'purchased phone', 'tmobil device', 'activate tmobil spoke customer care person seller', 'work', 'prr rt', 'onlem', 'nothing', 'device credit mei', 'unopened unused tmobil', 'unused time', 'another one price', 'least something', 'troubles customer care person nice polite', 'nothing', 'company new amazons renew store', 'products', 'satisfaction', 'purchased iphone', 'searched iphone', 'compatible boost mobile', 'almost phone', 'shipping handling', 'phone', 'even compatible boost', 'refund credit somethingi', 'iphone', 'searched iphone', 'compatible boost mobile', 'almost phone', 'shipping handling', 'phone', 'even compatible boost', 'refund credit something', 'extreemly dissapointed waste time money phone compatible tmobile sprint beware buyers', 'seller fixes issue', 'customer service', 'contacted inspite', 'times', 'return', 'label', 'time', 'want proceed', 'emails', 'circles', 'sorry label course', 'open weekends phone', 'i', 'completely honest extremely worried spending amount money amazon', 'phone', 'extremely fast close brand new condition exception', 'problems', 'fingers', 'side note', 'original box', 'mine', 'problem', 'heads', 'good luck', 'little skeptical buying iphone amazon', 'easy set upand', 'people', 'new phone apple', 'obvious reasons', 'nothing', 'different phone', 'getting mines', 'fully unlocked working scratches cracks stellar phone general', 'three phone family work', 'okay month month use', 'disaster', 'battery problem phone', 'i', 'charge', 'battery original batteries thing', 'reason', 'country', 'return time', 'perfect phone looks', 'new unlocked scratches', 'apple store', 'ty happy phone', 'ordered phone', 'worked tmobile', 'tmobile', 'unlocked carrier', 'tmobile', 'tmobile unlocked original carrier', 'big waste time money', 'i', 'refund days', 'able buy phone writing review others', 'love', 'little skeptical first love phone', 'love phone renewed phone awesome', 'buy\\nphone', 'date', 'absolutely delighted phone\\nphone', 'well face', 'recognition work', 'everything', 'nothing', 'phone amazon', 'money', 'phone couple days', 'hi everyone', 'phone biggest amazon purchase', 'i', 'horrible reviews phones', 'phone', 'excellent condition', 'brand new', 'i', 'almost weeks', 'i', 'zero issues', 'separate case screen protector', 'i', 'screen battery life', 'review', 'seal deal', 'glad made decision', 'phone', 'amazing shape', 'original apple charger', 'nice lengthy charger', 'phone battery capacity', 'amazon', 'mother law', 'speakers', 'renewed water damage', 'possibly also phone', 'fine sim card works reason', 'provider online chatted agent verizon', 'truly unlocked loophole', 'storage enough comparison old phone', 'i', 'miss', 'phone wish luck', 'screen', 'side', 'touch leads', 'device', 'looks', 'damaged piece', 'device', 'camera', 'devices price', 'first apple product', 'ipod', 'btw suffered whole series android phones issues calls', 'carrier wrong phones', 'easy use', 'better textingfast fewer mistakes intuitive simple pair accessories', 'sturdy cheap apple person', 'next computer apple', 'technology', 'work apple', 'skeptical buying renewed iphone phone', 'brand new iphone single dent scratch', 'perfectly\\nquick safelypackaged delivery', 'little disappointed research pricevalue exact phone brand new apple website', 'renewed version', 'ya', 'ya', 'phone easy set', 'iphone', 'large heavy plus great thing', 'nice crisp screenview harsh eyes reason', 'green color', 'old phone', 'another apple doodad', 'smoothe easy deal yay', 'phone', 'screen protector scratch itor', 'screen protector', 'one huge gouge', 'another one scuff mark screen touch screen', 'replacement', 'much vendor', 'one ones', 'yellow iphones', 'good price upgraded iphone', 'due size', 'everything', 'love yellow lol', 'screen protector', 'thats win', 'extras case', 'also lot faster iphone', 'stuff', 'good phone price', 'absolutely wonderful product', 'amazon warehouse', 'brand new fantastic product', 'phone amazon', 'apple box earphones phone amazing condition', 'brand new full battery capacity', 'tempered glass screen protector phone\\nphone', 'everything', 'program scam', 'low ball', 'expected amount', 'they', 'you', 'brand', 'new real apple charge cable charger', 'cable charger', 'phone phone', 'better screen shape screen phone', 'i', 'm thankful amazon', 'phone', 'i', 'm spending month leases payments', 'phone companies family', 'seven kids', 'joneses verizon', 'prepaid plan', 'everything', 'right month draft debit card', 'go store pay phone get service paid month', 'phones', 'whoever', 'phones', 'buy pair shoes', 'every month savings', 'far good phone days delivery process', 'come apple box', 'original apple charger use', 'good deal', 'thousand original box charger earbuds', 'i', 'm missing phone', 'unlocked use att', 'activate phone verizon', 'phone', 'stolen girl tech support', 'nice issued refund stated phone', 'clean previous owner', 'things', 'buyers', 'ebay amazon', 'ever phone', 'quarantine time', 'old phone washer', 'phone excellent', 'better phone', 'anyone', 'iphone affordable price', 'one year phone', 'another one brother', 'apple packaging accessories unbelievable thought', 'stars', 'phone', 'trusted seller', 'scratches damage issues', 'anyone', 'metro pcs carrier support phone', 'bill', 'excellent condition', 'iphone previously cheaper apple website', 'people', 'reviews', 'screen protector phone', 'phone company', 'either phones', 'sim card', 'self love', 'process', 'case protector part', 'phone case protector', 'phone', 'amazon', 'ps cracks dents scratches', 'phone', 'little nervous reviews', 'i', 'renewed phone', 'generic box phone', 'bubble wrap package', 'phone completed setup phone works', 'everyone', 'anything', 'nice scam', 'defective certain parts screen', 'touch', 'certain letters', 'especially reason', 'factory settings check cell phone aspects camera battery speakers', 'contacted company', 'regret problem', 'pm', 'est emails', 'cell phone repair shop inquire', 'quote diagnosis', 'estimated repair cost', 'thing', 'refund replacement product', 'purchased black iphone', 'scratches dents phone screen', 'battery percent', 'satisfied purchase', 'buyspry', 'second amazon', 'phone purchase', 'phone', 'two days phone', 'sturdy charger charging box phone', 'glass screen protector', 'bc', 'mine', 'perfectly one perfectly battery life perfect condition', 'w ab battery', 'phone nice looking easy set phone', 'time', 'phone stuff', 'u phone u trade option', 'money phone problem', 'thatthe phone', 'updated wait hour update phone overall nice phone seller', 'super nice btw helpful one month update', 'phone watch', 'i', 'phone', 'unlocked carriers', 'overall phone', 'ok ig works cdma networks', 'phone', 'date', 'phone notifications', 'music', 'anything', 'speaker phone', 'front flash', 'completely foggy dents chips phone', 'various methods', 'things', 'contacted seller', 'return phone', 'theyd exchange', 'theyd fix', 'phone', 'helpful returned phone', 'one apple', 'mine', 'dead pixel percent battery life', 'new one', 'new product', 'save dollars', 'lower price', 'less new make', 'used phone', 'came time', 'good great phone', 'used phones', 'battery messed iphone', 'new phone', 'phone skeptical lot people', 'reviews reviews', 'good two bad reviews', 'bought phone purple', 'charger charging box', 'original box earbuds', 'phone self great quality cracks chips', 'nothing', 'phone days', 'problems', 'everything', 'phone fast nd battery life', 'best phone course', 'everyone', 'phone sum', 'cracks sum', 'try', 'wroth plan', 'another one sister', 'three year hiatus', 'another phone iphone', 'way replacement', 'time', 'yea', 'lol', 'phone read reviews', 'i', 'i', 'less hrs phone', 'original packaging great job package', 'safe condition', 'phone battery life', 'great speaker sound amazing cameras', 'real photographer', 'lol', 'nature trails', 'definitely great buy fantastic price', 'one person', 'i', 'pleased iphone', 'purchased att', 'i', 'unlocked phones', 'i', 'm upgrading old iphone comparison', 'everything', 'sleek nice refurbished phone', 'nicks scratches', 'brand new battery life', 'amazing seller', 'screen protector', 'super nice touch', 'little weary buying iphone third party seller phone amazing quality', 'apple charger', 'damage phone works', 'new maximum battery capacity super fast camera quality amazing dollars', 'less amazing deal', 'great product', 'i', 'time', 'review people', 'breaks', 'brand new issues', 'however continued month later idk', 'i', 'connectivity issues', 'big deal', 'much hassle', 'new one\\nperfect date', 'phone v times day gift', 'problems', 'review lol scratches side', 'nothing phone case', 'front', 'everyone', 'absolutely issues', 'phone', 'apple', 'i', 'everything', 'overall good phone second thoughts', 'real deal', 'follow', 'instagram tik tok tho', 'information', 'free contact jxstsalt instagram tik tok\\nphone water proof', 'phone water', 'great product phone', 'seller', 'pretty penny', 'you', 'unable view quality hand', 'star rating', 'apple packaging accessories', 'minor scratching screen', 'everything', 'flawless phone simple screen cover', 'point screens iphone', 'inexpensive replace reason', 'based price tag', 'scratch screen', 'overall happy purchase', 'update return refund', 'new phone works', 'apple faulty device needs', 'randomly powers', 'logic board problem', 'im hoping seller contact asap exchange phone product damaged update review', 'eh opinion expensive brand new phone', 'gently used tmobile full price phone shipping costtaxes', 'non brand charger', 'minor scratches screen', 'border battery', 'alright', 'fortunately nothing', 'i', 'set', 'little worried security', 'wait writing review', 'bugs minimal scratches back recommend seller', 'brand new phone great quality best price', 'wish', 'son', 'everything', 'camera', 'truly incredible lightning fast charge', 'new couple light', 'one bottom side screen', 'goldblack part', 'anything', 'it', 'phone heats', 'i', 'i', 'm holding phone middle works', 'sure update software apps', 'days old bright light bottom pages', 'phone freezes amazon', 'seller', 'another one waiting months', 'seller', 'amazon', 'talk', 'april', 'seller amazon direct control', 'also phone', 'hot hold charge', 'battery', 'love\\nphone works', 'battery lifeim', 'jealous people', 'seriouslythis great deal carrier', 'sell phone', 'one downside iphone', 'headphone jack', 'fingerprint reader idea', 'phone', 'unboxed keyboard work', 'setup second phone screen', 'button good thing', 'return process', 'easy certified checked physical damage', 'iphone', 'first generation', 'i', 'android baby years', 'they', 'bit skeptical swap', 'android smooth experience vendor', 'phone perfect condition', 'original estimate', 'pleased purchase time', 'new phone wife', 'i', 'havent month', 'battery health', 'still good need customer service', 'question date purchase', 'i', 'date purchase', 'phone insurance', 'knicks', 'new', 'lag', 'phone glitches', 'phone', 'content old phone', 'update portion', 'everything', 'lemon', 'phone', 'perfectly thing', 'right small black shadow bottom screen', 'love', 'first little bit skeptical buying phone random seller', 'purchase phone', 'im glad phone', 'perfect condition', 'cracks', 'phone', 'screen protector phone', 'camera', 'great works', 'straight talk plan battery life wonderful super fast shipping\\nissue', 'day period', 'awesome getting replacement', 'defective one back respond messages', 'immediately nice work', 'one little issue', 'wrong phone perfect condition order', 'iphone days', 'i', 'issues phone', 'phone checking sim card service provider', 'multiple phone repair shops', 'phone', 'warning', 'times', 'hour device', 'screen sensitivity issues', 'touch', 'working top phone', 'locate bluetooth devices home members', 'easily able connect', 'good reviews lets', 'you', 'chance', 'buy', 'refurbished phone guess', 'i', 'one refund unfortunate waste time', 'phone', 'scratches visible arms', 'true visible scratches', 'however good phone glass screen protector', 'visible scratches discount guess', 'pay', 'buying', 'prompted select carrier hours', 'activate switch service', 'another hour phone provider', 'matter worse phone', 'log app store transfer data', 'everything', 'half', 'you', 'return', 'buyer', 'careful buying', 'mine', 'able used tmobiles network', 'store link plan', 'currently registered another user', 'refund', 'apple', 'iphone phone', 'every minutes', 'connection', 'every minutes', 'phone', 'calls', 'service service', 'straight talk years', 'phone phone service', 'problems', 'straight talk', 'issues', 'you', 'whole lot problems', 'money', 'purchased speaker', 'seller warranty window months', 'best buy', 'international version', 'fix nonus version', 'chance', 'one word advice', 'phone verify serial number fact', 'correct version', 'phone nice tiny scratches corner', 'they', 'i', 'everything', 'fine battery health', 'awhile charges', 'couple stars shipping issues', 'reason', 'shipper contact seller', 'new one whole process', 'weeks super annoying seller', 'first phone', 'phone avoiding seller', 'second time', 'iphone amazon sellers first phone', 'iphone', 'problems', 'new upgraded phone better cmara new features', 'seller', 'iphone', 'original box cares phone', 'perfectly fine price', 'open app', 'phone', 'skeptical purchasing phone', 'absolutely love', 'screen protector', 'well charger scratches screen part phone', 'also battery', 'love iphone', 'i', 'phone', 'phone store concerns', 'many many reviews amazon', 'best reviews disappointed screen', 'crackednot', 'battery life', 'good camera astounding adore', 'color', 'highly recommend purchasing phone hang', 'verizon phone issues', 'customer service', 'switching account', 'great verizon service', 'aveces tiene un pequeno', 'con el volumen', 'pero', 'de ahi esta perfecto encanta', 'mi herramienta mas', 'importante de trabajo desde casa la carga dura mucho', 'necesario cargarlo todos los dias con cada dias esta perfecto le doy mucho uso', 'anything', 'battery', 'brand new camera', 'good lot space cheap mine', 'phone', 'better charger', 'generic charger phone box', 'partybut good friend', 'bought husband', 'perfect cheaper buy way credit card', 'one phone store', 'brand new phone', 'least supposed screen', 'scratched company place screen protector top hide', 'damaged first place', 'large purchase', 'first phone unlocked lie work verizon', 'fedex fedex reliable phone', 'new phone save', 'one\\nphone delivery', 'battery life good phone dirty', 'especially camera part memory', 'something', 'headphones', 'right big problem', 'phone', 'well tmobile sim card charge amazon', 'charge phone', 'big issue things list product', 'happy trusted place', 'iphone price', 'better color iphone', 'iphone amazon', 'buyspry partner', 'iphone xs', 'great one visible scratch screen protector battery life time', 'iphone visible scratches screen', 'screen protector battery', 'last buy', 'cellphone practically new condition', 'last one get', 'impression', 'last buy', 'one amazon', 'new gives', 'phone', 'receipt', 'stolen owner', 'phone getting set verizon store battery', 'one month apple store', 'days', 'new battery phone', 'refurbished phone', 'testing waters', 'wanted switch apple android phone', 'scratches body battery pretty good condition', 'ios', 'thing', 'sim tool w generic charger', 'w good backup charger', 'well shop', 'android', 'phone', 'iphone android years', 'couldnt nice able test phone return guarantee', 'they', 'batteries battery life', 'healthy phone great work', 'best phone', 'i', 'i', 'satisfied day night quality', 'work box number', 'software old phone', 'iphone return easy stand', 'phone', 'perfect shape', 'even scratch battery life', 'issues phone', 'little late fault shipping company', 'needed new phone', 'doubt best price', 'normal apple packaging', 'phone works perfectly main complaint battery life', 'big deal', 'another complaint screen protector', 'anything', 'buy phone', 'amazing basically new condition price', 'product', 'great everything', 'battery health iphone battery health iphone', 'battery means', 'money', 'battery', 'battery', 'love phone mark flaw', 'confidence', 'lot money issue', 'charge', 'one issue', 'another straighttalk service heaven', 'home button', 'either\\nphone nice shape', 'light scratches screen known issue', 'iphone', 'phone', 'visible screen black shipping communication', 'good iphone fan', 'wife', 'buy seller', 'new sim card', 'nothing', 'apple store', 'diagnostics', 'phone seller fraudulent trust', 'perfectas condiciones', 'la vida', 'de la batera lleg', 'una', 'genrica pero muy bien empacando', 'llevo usndolo casi semanas pero el problema', 'el siguiente sale un aviso que dice puede', 'que los mensajes de texto necesarios para activar', 'imessagefacetimeicloud sean de pago realmente', 'muy molesto por favor', 'con el error ver obligada solicitar la devolucin del dinero gracias\\nlove', 'one day earlier suppose', 'everything perfect condition', 'metro issues', 'iphone', 'hesitant buying reviews', 'im glad', 'worked small scratches', 'problems', 'return phone beautiful looking phone', 'give', 'stars', 'overall', 'i', 'world difference', 'lol setup transfer dataphotos old phone', 'one painless', 'metro pcs mobile similar carrier', 'save time', 'unlocked device current account', 'seller', 'renew phone', 'headline', 'marketplace', 'new phone beautiful perfect presentation seller good service fast shipping option', 'next one buy', 'phone shipping\\nproduct', 'us', 'someone', 'phone', 'mexico wheni', 'service years', 'apple', 'finger reader battery life', 'better happy item', 'second hand product', 'device', 'visible scratches', 'arms length description', 'phone', 'lot really noticeable scratches', 'bumper', 'screen protector good removed check screen condition', 'good way', 'trouble', 'phone buyspry', 'i', 'review stars', 'noticeable scratches reference opportunity', 'another refurbished iphone chubbiestech', 'mint condition device', 'unfortunately seller', 'iphone', 'you', 'item', 'retail packaging', 'brand charging brick cord great', 'trouble', 'phone service', 'phone', 'mimoji phone', 'heat phone minutes', 'visible scratch screen top right corner seller', 'junk', 'new condition', 'dollars', 'new product', 'whoever', 'junk new condition', 'eyes', 'total waste time', 'far complaints', 'much learn manual', 'available apple find reprehensible iphone newbie buy written manual', 'use thing', 'amazing things phone', 'im pretty happy phone', 'android phones', 'fingerprint reader', 'low review drawback', 'little bit use phone', 'battery life', 'phone', 'he', 'phone close price apple store', 'brand new refund process', 'product', 'phone', 'new advertised phone noticeable scratch', 'camera', 'open camera', 'failing adjust vibrates phone', 'camera phone', 'phone gift cousin', 'box', 'work metro pcs', 'issues', 'text internet issues battery', 'days', 'recharge lighter user amazing value amazing unit', 'value money love phone heart', 'trouble', 'fully unlocked thing transfer sim card old phone phone minor problem', 'front camera', 'pics vids', 'faded red light', 'pics', 'nobody', 'time', 'phone apple store', 'phone carrier', 'extra phone', 'two one exact issues', 'phones', 'apple', 'they', 'mfg date year apple', 'phones', 'apple repairs', 'return', 'ordered refurbished iphone', 'excellent condition scratch', 'new everything', 'great seller', 'top quality phone', 'i', 'sooooo skeptical ordering renewed phone', 'days', 'every review', 'ratings', 'screw well cross bridge', 'lets', 'phone perfect single scratch', 'blemish', 'everything', 'beautifully phone', 'camera impressed issue batter life', 'charge', 'green something willing deal', 'good price', 'everything', 'straight box phone work seller', 'needed updated phone', 'hoops', 'update reset phone success', 'apple phone days warranty', 'iphone', 'seller scam', 'take car', 'waterproof case', 'phone heres thing phone works', 'new big flaw', 'someone', 'answer call screen shuts', 'anything', 'couple minutesit', 'last least minutes', 'one', 'call', 'way', 'tolerate', 'issues', 'phone', 'broken phone', 'distorted point', 'persons words', 'seller', 'far easy work', 'money', 'glass', 'still great value', 'new activated att', 'due upgrade', 'llego prontoen buenas condiciones', 'el celular vino como', 'nuevo con de batera ya', 'anteriormente haba comprado', 'un iphone xr para este', 'para mi', 'pareja vino', 'mucho mejor que el mo lo', 'ya que son usados', 'panama donde vivo', 'phone defective', 'i', 'contacted seller', 'phone', 'one wait', 'refund order', 'phone call support requests', 'bad reviews', 'i', 'iphone', 'activate sim card', 'telephone provider', 'us', 'sim block', 'phone', 'phone', 'going return seller hope', 'fix issue customers', 'time money', 'mine', 'glass screen protector', 'phone', 'didnt mind', 'phone', 'basically free screen protector', 'otherwise great phone refurbished model works', 'new\\nproduct', 'iphones', 'anyone', 'looking purchase iphone', 'another girlfriend beautiful perfect condition', 'screen protector', 'satisfied product', 'product anybody', 'brand new iphone better price', 'price', 'risk', 'great deal phone works', 'problems\\ncons', 'batter life', 'pros', 'working condition screen protector factors', 'much harsher review\\nvalue money couple', 'barely noticeable otherwise phone runs', 'good fully unlocked looks', 'new complain phone charger', 'apple charger cheap chargers', 'pixel', 'iphone', 'camera', 'pixel shoot decent wide angle photos', 'crappy digital zoom functionality', 'better integration hearing aids', 'bad refurbished phone', 'grade b', 'come walmart', 'problem', 'perfect condition', 'tempered glass', 'lots', 'screen', 'screen', 'battery life means', 'batteries', 'i', 'i', 'recommend', 'something', 'definitely used condition', 'brand new phone marks smudges', 'scratches', 'aftermarket usb charger lightening cable', 'freshly set verified imei apple problem', 'phone number att tmobile', 'almost cheaper brand', 'new one', 'mobile phone provider purchasing phone', 'totally unlocked way', 'walking store', 'phone activated plan', 'minutes', 'needed sim card', 'anyone', 'buying bust fear', 'moon elated purchase', 'phone', 'warranty', 'phone', 'lot problems', 'use phone speaker phone people', 'lot issues', 'speaker week screen', 'flash lines', 'phone contacted seller faulty product water damage', 'otter box case', 'nothing', 'iphone', 'new iphone pleasantly surprised overall condition performance device savings warranty', 'enough take risk based experience', 'great phone', 'screen protector bummer', 'pods', 'apple', 'cheaper new phone amazon credits', 'phone', 'product noticeable dents', 'screen show', 'closely inspected looking phone', 'far good first day', 'device', 'anything', 'ill update review\\nscreen', 'tiny scratches', 'someones pocket', 'constantly keys', 'phone', 'point pry marks side', 'extra buy brand', 'renewed phone', 'i', 'right bat', 'something', 'right speakers', 'loud camera', 'par screen light spot', 'girlfriends iphone', 'window', 'phone stoped working cellular data', 'unable anything', 'latest ios', 'att store apple store', 'us', 'even real iphone', 'buying', 'illegal form way', 'great value screen', 'freezes', 'app', 'everything', 'working order screen great condition', 'screen protector awesome phone wish battery life', 'checking phone', 'best phone', 'best price buyspry', 'really second time', 'honestly disappoint battery life health screen body phone', 'straight apple', 'tempered glass', 'im happy purchased phone', 'sure wanted change phones dream', 'lover seller', 'super', 'la verdad que al ser un', 'renovado pude recuperar toda la informacion de otro iphone lo que', 'genial aun puedo hablar de la bateria', 'lo', 'raspones pero con una proteccion', 'algo mas cuando lo prube mas dias funciona muy bien', 'chile', 'new iphone video quality good many accessories', 'people', 'shoot ig content phone fast produce content audio accessories', 'green screen', 'export', 'music video garage', 'imovie dope job green screen', 'price', 'iphone', 'china', 'phone', 'screen', 'minor blemishes', 'blemishes', 'screen', 'replacement', 'money', 'pain', 'phone', 'work', 'well quite disappointed appearance screen phone case', 'phone', 'great care case', 'anything', 'new update', 'working apple', 'hardware issue', 'unlocked iphone skepticism', 'brand new scratches', 'sim card phone carrier', 'expectations', 'compared iphones purple color beautiful looks', 'lavender amazon customer tech support', 'help', 'data', 'reasonable price', 'perfectly everything', 'apple product', 'original packaging', 'cable', 'bonus overall love', 'good phone reason', 'stars', 'unlocked facetime imessages', 'green difficulties', 'please contact', 'apple', 'they', 'you', 'future notice', 'purple phone', 'better colors phone looking reviews', 'fast shipping works', 'new scratches', 'anything', 'goodi', 'different sellers', 'anyone problems', 'past others sellers', 'basically new ones', 'new phone', 'i', 'renewed phones', 'many misleading things phones', 'purchase', 'phone', 'battery life', 'dents', 'basically brand new love', 'package', 'everything', 'many people', 'many misleading things', 'phone gift dad', 'trouble', 'data old iphone', 'phone randomly shut', 'phone fine', 'disappointed phone', 'minute', 'phonescreen size', 'iphone hands', 'good job apple good job amazon', 'flush data transfer', 'i', 'screen resolution keyboard tranquility', 'overall battery performance', 'device', 'iphone', 'window', 'phone work', 'shop', 'contact seller', 'help', 'none', 'phone relative leaving country', 'clear signs', 'tear phone scratches', 'new huge scratch top right side screen shocking phone', 'abused wanted return', 'person', 'country', 'phone great com card', 'com card tray return', 'refund reorder', 'refund phone', 'telephone', 'refund', 'notifications rings people phone', 'freezing screens', 'contact buyspry marketplace combination', 'followed instruction booklet', 'always pieces', 'information missing order complete return', 'i', 'return label', 'recent message idea', 'phone number', 'return date', 'coment actual performance', 'apple user good choice friend', 'xr', 'one huge storage capacity', 'retina', 'plenty accessory items', 'always bit skeptical ordering phone amazon', 'screen protector', 'brand new tiny scratch screen protector phone spotless', 'happy saved couple phone', 'unlocked trouble', 'network\\nrealllllyyyy scared purchase phone amazon', 'm glad', 'i', 'phone months problems', 'able activate phone provider issues', 'super skeptical star reviews', 'amazon money', 'figure heck great product', 'new batter capacity problems phone', 'mobile specific phone', 'nice product', 'phone', 'even screen protector applecare', 'either also charger', 'fast charger charge phone super fast con battery life', 'little hesitant considering', 'many reviews far extremely happy product', 'seller future', 'store', 'phone set', 'twice times', 'ordered phone', 'new one needed storage space', 'one thought', 'great deal nervous renewed read reviews doubts battery life', 'phone renewed states', 'original apple box apple charger cube reviews', 'complete description', 'pleased phone', 'battery life screen', 'overall pleased highly recommend phone company', 'renewed phone far mine noticeable issues', 'brand', 'new one', 'screen dents', 'new iphone dollars', 'i', 'reviceved phone', 'great shape', 'put sim chip', 'apple', 'c f key messeage', 'screen', 'previous owner', 'screen', 'correct way', 'calls', 'phone', 'refund', 'phone', 'seller tried contact', 'one bit paid dollars phone', 'sure hope', 'anyone else lesson', 'hundred percent', 'phone', 'good battery nicks dings', 'perfect phone camera great issues phone delivery smooth transfer', 'another phone company', 'phone fine', 'iphone', 'face', 'front', 'ok icloud free outside screen', 'small scratches', 'one', 'arrive well cared battery also fine product', 'early great stars', 'three month warranty', 'phone', 'last dud\\ndislike', 'boot loop apple tech', 'phone call trying return', 'pay return shipping customer service crap phone crap', 'company', 'brand', 'new apple', 'refurbished iphones', 'they', 'great one amazon exception', 'everything', 'beautiful scratches screen', 'every feature', 'you', 'great refurbed iphone good cost company', 'good condition garbage garbage', 'apple products', 'buy applecare', 'number serial number serial number', 'apple', 'bootleg phones', 'they', 'real apple phones', 'apple bootleg', 'reach back guess', 'intention', 'renewed quality expectedive', 'craigslist', 'good condition scratches', 'screen protector problem', 'less month', 'inconvenience', 'repair shop', 'fix', 'use', 'phone work', 'one contacted seller', 'phone work recommend', 'phone doublecheck', 'everything', 'apprehensive purchasing telephone', 'online', 'i', 'tangible person', 'order', 'one best purchases', 'i', 'phone', 'original sim card phone', 'everything', 'rolling problems', 'highly recommend purchasing phone', 'packaging phone', 'everything', 'much gigabytes', 'phone', 'enough space storage', 'sure buy phone amazon', 'sure sim card phone value', 'fully unlocked important thank', 'brand new phone beautiful condition', 'i', 'month complaints', 'new arrived scratches dents problems', 'mine', 'man', 'i', 'massive scratches phone visible arms length', 'someone', 'review', 'i', 'phone months', 'glitch freeze', 'warranty package', 'warranty phone well phone works', 'enough minor annoyance', 'wife', 'phone phone', 'red finish beautiful call quality', 'previous phones', 'people', 'you', 'unboxed iphone touch screen', 'touch screen', 'use', 'newly purchased sim card straight talk work iphone', 'sim card\\niphone excellent physicalvisual condition', 'price sooo close apple cost problems', 'risk', 'take long respond help', 'issues', 'i', 'contacted carrier phone', 'something', 'reasonable amount time company', 'reasonable amount time', 'even though refurbished phone', 'new works', 'battery biggie us', 'aftermarket accessories', 'thats listing', 'second time', 'thank sooo', 'phone cultureadjustment shock loving ii', 'amazon', 'usa pero', 'la verdad vale la pena buensimo', 'lo exprimido al mximo lo usado continuamente', 'google meet clases', 'etc otras', 'que requieren bastante energa de un celular', 'todos los sentidos', 'tanto', 'la batera cmo', 'la perfeccin', 'tiene garanta', 'lo', 'sin duda alguna', 'una de las mejores', 'compras que', 'hecho celular vino muy bien', 'traa un cargador cubo', 'para cargar muy bueno la condicin de la batera', 'excelente yo cre que iba ser menos por ser', 'pero tiene un de batera', 'la parte', 'fsica del telfono', 'lo', 'muy bien', 'estn muy bonitos tal vez tiene unos pequeos raspones', 'la pantalla pero son', 'casi nulos', 'si funcion', 'el desbloqueo', 'de la banda que slo puedo decir que', 'la mejor compra que hecho que recomiendo mucho al comprador', 'phone locked buy person', 'i', 'satisfied\\nphone', 'great condition dent scratch screen', 'nail thin hard even spot battery health', 'definitely lower end battery', 'recharge phone', 'others', 'i', 'brand new works', 'course', 'update', 'likes', 'screen protector', 'everything', 'working order', 'tmobile plan', 'battery health', 'love color phone', 'xr satisfied feature easy return', 'able purchase', 'great camera', 'phone', 'important things', 'system speed speakers', 'front back camera', 'picture', 'works', 'anything', 'doesnt cracks scratches', 'read reviews', 'update results battery life', 'far good needed upgrade phone', 'great deal', 'refurbished phone month contract phone carrier', 'similar phone', 'love phone brand new conditions', 'problems', 'great battery life', 'phone problems', 'unlocked version tmobile', 'i', 'phone month issues', 'old number issue google accounts', 'password', 'phone issue gmail issue', 'phone work', 'bday present daughter', 'thankfully amazon', 'us', 'i', 'm love phone fact', 'brand', 'brand', 'new iphone much lower price camera quality', 'phone', 'everything', 'phone', 'i', 'top right side screen', 'screen scratched screen', 'phone giving error message', 'support display screen phone', 'sign icloud account', 'battery scratches screen side', 'camera perfect phone', 'day', 'shipping know fedex', 'charger charger box', 'great condition screen protector', 'everything', 'transferred old phone features', 'nd one', 'i', 'pice junk', 'money', 'pice junk iphone', 'daughter', 'battery life', 'phone\\nperfect product little worried first buying product', 'works', 'brand new one scratch mark', 'one', 'delivery truck processor', 'rather manufacturer', 'i', 'pleased purchase', 'product', 'anyone', 'phone', 'muchas gracias gust', 'la cmara est de exelente\\nphone', 'put volume incoming calls', 'high times rings', 'rings ones', 'full price', 'phone', 'working reason', 'even verizon guy', 'phone short time', 'phone amazon', 'phone usps box charger phone', 'new far days phone working fine happy purchase', 'pro sister', 'first false advertisement', 'phone', 'phone unlocked seller needs', 'w peoples money', 'advise', 'first amazon driver', 'package chest front door', 'left ring door bell', 'charger plug cord damged dirty glass screen protector', 'phone', 'charged night', 'money', 'daughter love', 'biggest disappointment battery life', 'time downloaded ios update', 'charge cosmeticaly phone didntt', 'dents', 'ear', 'seller choose', 'much starsguess\\nboyfriend', 'phone late anniversary gift', 'unlocked stated wish', 'little bits', 'corners', 'pictures put case', 'battery life', 'i', 'screen protector', 'present person', 'gift', 'great price easy transfer info', 'new phone', 'everything', 'phone works great problems', 'brand', 'pd', 'known know july sept months', 'brand new cellular provider', 'problems', 'single mark phone', 'brand', 'kind skeptical first buy know amazon quality read experiences', 'chance regrets', 'phone nearly mint condition', 'scratches battery face', 'fine new phone weeks', 'everything', 'perfect love loved price', 'screen protector', 'money', 'planet', 'money', 'phone', 'nothing', 'garbage', 'gsm carriers', 'phone crappy condition', 'broken pieces seller', 'product', 'nice phone excellent condition', 'phone screen', 'went att', 'sim card', 'minutes', 'lost phone backup fault download apps email stuff', 'one day great start', 'front', 'first lot money', 'first iphone coming android', 'iphone', 'headphones', 'truly wireless earbuds', 'i', 'm good final verdict', 'phone great investment experience', 'great woman', 'come mail', 'exactly described paid attention memory amount fault', 'love red camera', 'thing', 'charger', 'i', 'm going honest charger', 'long charge phone', 'otherwise everything', 'phone works', 'brand new scratches', 's', 'device battery life', 'touch phone', 'black phone respond apple support fix problem', 'phone warranty', 'updated phone', 'message', 'fix', 'idea', 'phone may apple phone', 'worried buying phone iphone sons birthday', 'i', 'operating', 'nearly brand new charging ill update', 'problems', 'phones seller', 'defective microphone', 'functionality good new', 'purchased phone xmas gift granddaughter', 'dropped wet', 'anything', 'battery', 'phone fall', 'phone store cost', 'contact seller', 'microphone', 'clogged people', 'headphones', 'hey phone woo hoo\\ndevice', 'original box great likenew condition', 'charger offbrand charges', 'something', 'dont one', 'former android owner', 'ads android', 'son phone', 'he', 'incredibly happy photography capabilities', 'previous iphone', 'excelente esta como', 'nuevo sin detalles una', 'de mis mejores', 'amazon', 'phone', 'saturday battery life', 'one tiny scuff top edge', 'noticeable looking cracks', 'worth', 'im writing review', 'i', 'others', 'approval', 'iphone', 'show signs failure', 'bigger screen upgraded camera', 'pay', 'dollars', 'phone', 'trigger', 'possible issues', 'kind money', 'phone', 'camera fantastic shots', 'problem', 'phone strava', 'good use', 'i', 'another iphone seller time', 'issue volume', 'speaker mode call', 'sound quality', 'bad shows signs', 'screwed back bottom phone speakers', 'headphones', 'able use', 'volume maximum disent sound', 'renewed model price', 'much better quality battery life', 'i', 'resellers', 'totally happy experience', 'young adult children', 'phones', 'waste money phone', 'next minute service phone', 'screen', 'sellers', 'old iphone', 'days purchase perfect condition', 'never single issue', 'cheaper buying store\\nphone', 'renewed iphone tmobile great condition', 'compatible tmobile', 'false advertising', 'yr old daughter', 'she', 'pretty pleased think', 'iphone company', 'stars', 'phone', 'little issue', 'proud scratches', 'brandnew excellent condition', 'i', 'really good problems', 'apple problem phone problem', 'phone daughter years old happy phone', 'problems', 'hesitant due good true old saying', 'new minor set back siri', 'voice', 'enough activate randomly loud coughs strange deal', 'siri dearer', 'chip paint', 'bottom lens', 'someone', 'overall good buy', 'quickly packaged perfectly receivers', 'great quality', 'i', 'phone works', 'facia recognition fingerprint reader battery life', 'better iphone xor\\npros purchase phone', 'excellent condition', 'protector screen', 'sim card', 'new sim', 'repair shop', 'additional repair order', 'sim card work', 'i', 'phone days', 'everything', 'great battery life', 'end day battery', 'even scratches marks notice package', 'time', 'charger cube apple products', 'money', 'review', 'it', 'phone son', 'carrier', 'informed phone', 'unlocked mei numbers', 'us phone', 'problem', 'full refund', 'i', 'm thankful phone', 'love phone', 'apparently multiple apple ids device', 'smooth hell', 'good price', 'screen protector', 'item higher rating phone great condition', 'arrival phones', 'microphone work alla message', 'seller response approval refunditem', 'refundi', 'exchange less hassle', 'refund shop', 'phones', 'early excellent conditionwe love', 'everything', 'nothingphones', 'basically brand', 'new two iphone', 'one n sister', 'one purchase', 'phonesno problems', 'far n', 'phone works', 'son', 'battery life', 'great condition', 'i', 'phone week', 'anywhere iphone', 'i', 'problems', 'good product value', 'phones cheaper phone', 'product', 'coming accessories option', 'protection warranty amazon', 'item ability return', 'battery life capacity', 'good', 'glitches', 'iphone screen zooms time', 'screen', 'protected case day', 'fell lap floor', 'even phone renewed didnt encounter', 'issues problems', 'att', 'service phone', 'stolen wife', 'new phone', 'amazon', 'stolen property\\nchips', 'sides battery worse previous iphone owned years', 'wireless charging', 'fine plug charges', 'going return replace', 'received day', 'exactly advertised happy experience', 'phone works', 'scratches backside', 'noticeable wish', 'picture phone sell', 'gift younger sibling', 'great come unorthodox box charger work', 'apple product', 'fine carrier', 'carrier', 'phone great battery life', 'others', 'compromise display', 'great wear tear features', 'iphone functional return', 'refund\\nphone', 'screen protector apple box', 'perfect condition battery life capacity', 'phone', 'brand new', 'i', 'month works', 'brand', 'expectations', 'visible harsh scratches damage', 'iphone battery life', 'long plenty reasons', 'excellent product phone', 'good condition battery', 'shock', 'wear bands', 'country guatemala', 'zero work', 'iphone', 'works', 'well noticed little bumps bottom screen', 'nothing', 'minor imperfections', 'box', 'potential damage phone shipment', 'camera', 'switch portrait mode', 'picture phone freezes', 'everything', 'product buying', 'figure problems', 'speaker', 'phone worthless', 'way', 'waste valuable time sad disappointment fir kiddo', 'amazon prime total fast refund', 'phone', 'described', 'working order', 'charge good son', 'happy new phone', 'everything phone', 'flaws', 'phones', 'i', 'negative experience purchase', 'guess research', 'face', 'id didnt work', 'front portrait mode', 'offered replace', 'whole phone', 'order replace', 'phone', 'sad bummer face', 'phone', 'battery great condition phone', 'functions', 'new complaints happy purchase', 'issues phone', 'good working order', 'noticed selling price brand new apple complaints', 'phone', 'great shape battery', 'charge well problem', 'cable phone', 'accessory supported notification', 'another charge cable problem', 'battery', 'mine', 'original packaging well packed bubble wrap glass screen protector', 'overall satisfied phone', 'accessories', 'know renewed phone money', 'decent phone', 'phone arrived time', 'two minor blemishes', 'issues', 'happy purchase', 'likenew capacity', 'defects', 'read', 'due size', 'accurately type', 'dark ordering phone', 'lots', 'camera', 'set phone', 'latest ios', 'option return exchange', 'new phone hope', 'great value us iphone', 'fingerprint iphone', 'face recognition love also home button swipe', 'two one red one black fir husband', 'look act', 'new phones', 'brand', 'scratches glass screen protector', 'maximum battery capacity dollars cheaper apples online store', 'apple iphone box earbuds charger', 'anyone', 'money', 'damaged things', 'one', 'something', 'phone works', 'perfectly slight cosmetic scratch front phone', 's', 'preowned issues phone', 'earlier expected satisfied purchase', 'iphone battery life', 'llego', 'muy buenas condiciones', 'un detalle', 'la esquina', 'un rasponcito', 'un ligero araaso', 'la pantalla pero que ni', 'nota ademas la bateria', 'llego con el recomiendo este vendedor', 'el celular vino impecable con mica', 'nuevo sin', 'batera lo compr', 'eeuu', 'lo traje', 'ecuador funciona de maravilla', 'la mejor compra que hecho', 'aos', 'amazon pero ojo comprenlo con buyspry de este proveedor', 'ya haba', 'ledo reseas', 'excelentes', 'qu excelente servicio', 'fast phone', 'brand new pleased purchase', 'vendor', 'beautiful neon pink clear case year old daughter', 'first iphone', 'phone', 'free case phone', 'reluctant buying', 'phone', 'device', 'others', 'seller', 'soon phone', 'super quick amazing able figure transfer info', 'less damage planet', 'camera', 'pictures dark spot picture keyboard', 'hope able work', 'another one fix', 'immediately battery', 'whole thing', 'amazon reimbursing charges', 'fixed pain', 'phone work', 'big hassle', 'thing', 'they', 'terrible job', 'issue phone refurbishing process thing', 'simple apps', 'twitter', 'instagram', 'photos', 'impossible thing', 'anything', 'absolute waste money recommend seller', 'iphone', 'one excellent condition screen protector', 'perfectly extremely satisfied guys', 'screen black spot lower right corner sim card port', 'refund exchange dollars brand new iphone', 'lot headache', 'phone', 'pandemic old ones battery', 'little leary purchasing kind product amazon', 'apple product', 'ever amazon', 'battery life amazing', 'bed', 'one night phone played music help', 'nice refurbished phone\\nphone', 'fine hours usage', 'entire screen horizontal lines battery life percent', 'anything', 'lines', 'time', 'phone bad service', 'one person', 'helpful\\nscreen', 'especially sun battery health live trinidad', 'friends', 'renewed euphemism', 'phone phone', 'two cosmetic wear signals corner screen', 'dent corner', 'phone', 'schedule', 'clearly obvious one rear camera lenses', 'multiple places', 'helpfully covered gross dirtstreaked sticker sellers', 'renewed product label', 'dubious best heres', 'returns process', 'better eyesight', 'whoever', 'phones', 'sideman satisfied purchase', 'original box original accessories', 'daughter unlocked metropcs', 'card use', 'somewhere unlock', 'phone work phone', 'real inconvenience', 'package', 'easier phone amazing camera', 'plenty', 'great condition noticeable irregularities', 'facial recognition', 'picture telephone', 'im lol phone', 'i', 'm always bit skeptical buying electronics', 'i', 'happy purchase purchase iphone', 'popped sim card problems', 'new scratches', 'battery health', 'phone junk mine', 'bad screen', 'far solid phone unlocked battery', 'last iphone', 'i', 'problems', 'someone', 'well havent even phone', 'water damage damage', 'happy scratch nic dent', 'screen protector ready charges', 'brand new charging wire plug', 'iphone box', 'securely similar box point', 'liked quality phone', 'brand new\\nlove', 'nothing', 'i', 'm love', 'another one girlfriend', 'accessory', 'phone cheap', 'china', 'box', 'phone', 'really fast much time worry', 'perfect condition', 'lil bit scuff marks', 'top corner', 'lil dab toothpaste', 'i', 'm happy purchase', 'iphone', 'great issues', 'carrier', 'chance', 'refurbished product', 'screen protector', 'charger', 'earbuds', 'low battery life', 'price', 'brick cord', 'phone', 'time', 'works', 'new great value price', 'awful phone butvery quick respond return request wish phone', 'exceeds expectations', 'price storage space', 'un pleased purchase', 'i', 'much time phone carrier', 'transfer number', 'phone informed phone locked contacted amazon minutes', 'contact carrier purchase item', 'slow system phone', 'ok damage', 'anything', 'pay', 'little skeptical first spending unknown seller reading reviews', 'phone looks', 'new cosmetic damage works', 'mine unlocked activated carrier day', 'big change', 'described seller', 'brand new wish', 'original charging cord box daughter', 'great phone quality', 'iphone excellent phone', 'crashed bluetooth wifi failed contacted company', 'money', 'whole lot hassle', 'vino con una', 'caja', 'generica el cargador cable', 'super genericos vino con una raya', 'la pantalla', 'perfectas condiciones', 'phone complain operation', 'phone', 'live angola', 'locked att', 'know fault', 'i', 'phone right help', 'unlock att website', 'first phone contact associated phone', 'dont information', 'battery life', 'top right corner', 'complaints', 'everything', 'months', 'phone film shards glass', 'somewhere phone', 'almost intentional cursive h', 'dead smack middle screen iphone certified accessories', 'rd party price new apple store', 'love camera quality good shipping fast battery life', 'phone everything', 'great pics', 'long lasting battery', 'easy use', 'touchscreen\\nlove new phone phone wish', 'headphones', 'whatever\\nfaceid', 'long lasting battery perfect amount storage space huge discount', 'new apple purple favorite color', 'i', 'phone', 'right way', 'face', 'recognition works', 'hope update', 'covid protection mask', 'screen scratches', 'battery life money', 'apple charger', 'ear buds', 'phone new apple products', 'ipad add feedback', 'i', 'worried phones condition', 'however pristine condition phone', 'even screen protector', 'charger great quality product', 'sides phone', 'phone case', 'cosmetic damage phone works', 'champ', 'charge', 'first time buying', 'brand new best thing', 'dint pay thkusand dollars', 'tha ks seller', 'purchase', 'christmas gift daughter', 'nothing', 'unfortunately unable return', 'money', 'daughters phone', 'well packedwith damage', 'phone', 'i', 'problems', 'phone', 'far love screen great camera', 'great easy use', 'new iphone user', 'far good things', 'miss', 'android', 'phone great condition', 'cause', 'transferred data', 'hot turns', 'i', 'see turn setup facial recognition', 'manual code', 'return', 'everything', 'phone', 'couple hours cellphone', 'minutes', 'repeatedly operating system', 'oldest version', 'lemon', 'seller costs', 'time easy connect carriermetro pcstmobile long lasting battery life non original charge', 'charger', 'one phones', 'overall good purchase', 'horrible quality', 'someone', 'return', 'retail price love', 'best phone', 'i', 'battery', 'brand new phone', 'cameras', 'true love\\ncell', 'great conditions', 'highly recommend buy product', 'everything', 'iphone', 'love love love', 'screen protector', 'locked verizon', 'im cricket', 'love phone amazing', 'nice phone', 'new\\ndescription', 'visible cosmetic imperfections', 'arms length', 'scratches', 'even hole side cameras', 'battery original capacity better years old iphone contrary screen brand new\\nissues', 'item', 'scratchesplease', 'battery life phone less percent', 'battery', 'everything', 'shattered company', 'weeks', 'great deal', 'screen', 'brand new apple store', 'phone', 'working days use', 'apple store', 'even iphone android phone parts', 'phone messaged seller', 'nothing', 'skeptical first wow phone perfect condition scuffs', 'anything', 'cameras battery life', 'everything perfect definite', 'phone months', 'battery life great worked pay month phone plan', 'phone renewed water proof', 'water phone works good water issue', 'muy buen estado', 'lo que buscaba', 'obvious scratch camera full unlocked original carriers information', 'love phone pretty easy use', 'however charger iffy', 'verizon gigabyte version', 'fraudulent device', 'switch samsung galaxy iphone phone', 'practically brand new scratches', 'maximum battery capacity phone', 'charge', 'i', 'phone month issues nd purchase seller', 'future', 'connected carrier', 'anything', 'unlocked phone online', 'im glad battery life', 'still good nothing', 'new battery', 'otherwise i', 'super happy phone\\nphone constantly power cycling end', 'device', 'yellow phone awesome camera perfect phone battery life', 'good value money love quality pictures', 'battery', 'phone supposed receive purple', 'white phone', 'phone gift', 'small dings', 'gift husband', 'new works', 'device', 'device', 'new battery life', 'phone almost new screen', 'entire left side screen', 'didnt work', 'letters wszadqx', 'new screen', 'wich cost', 'sooo', 'something', 'amazing works', 'u second thoughts', 'excelente estado batera buen precio excelente', 'como', 'havent problems', 'apps service love phone', 'android iphone easy set face recognition', 'well charge', 'i', 'really glad made switch']\n"
          ]
        },
        {
          "output_type": "execute_result",
          "data": {
            "text/plain": [
              "                       noun_phrases_Frequency  noun_phrases_Probabilities\n",
              "nice phone excellent                        1                    0.142857\n",
              "box phone work                              1                    0.142857\n",
              "covid protection mask                       1                    0.142857\n",
              "im glad phone                               1                    0.142857\n",
              "happy quality phone                         1                    0.142857\n",
              "...                                       ...                         ...\n",
              "original apple brick                        1                    0.142857\n",
              "im lol phone                                1                    0.142857\n",
              "vez tiene unos                              1                    0.142857\n",
              "renewed phone awesome                       1                    0.142857\n",
              "user good choice                            1                    0.142857\n",
              "\n",
              "[100 rows x 2 columns]"
            ],
            "text/html": [
              "\n",
              "  <div id=\"df-0c61cb32-abdb-46f0-8b25-534ce9b641ac\">\n",
              "    <div class=\"colab-df-container\">\n",
              "      <div>\n",
              "<style scoped>\n",
              "    .dataframe tbody tr th:only-of-type {\n",
              "        vertical-align: middle;\n",
              "    }\n",
              "\n",
              "    .dataframe tbody tr th {\n",
              "        vertical-align: top;\n",
              "    }\n",
              "\n",
              "    .dataframe thead th {\n",
              "        text-align: right;\n",
              "    }\n",
              "</style>\n",
              "<table border=\"1\" class=\"dataframe\">\n",
              "  <thead>\n",
              "    <tr style=\"text-align: right;\">\n",
              "      <th></th>\n",
              "      <th>noun_phrases_Frequency</th>\n",
              "      <th>noun_phrases_Probabilities</th>\n",
              "    </tr>\n",
              "  </thead>\n",
              "  <tbody>\n",
              "    <tr>\n",
              "      <th>nice phone excellent</th>\n",
              "      <td>1</td>\n",
              "      <td>0.142857</td>\n",
              "    </tr>\n",
              "    <tr>\n",
              "      <th>box phone work</th>\n",
              "      <td>1</td>\n",
              "      <td>0.142857</td>\n",
              "    </tr>\n",
              "    <tr>\n",
              "      <th>covid protection mask</th>\n",
              "      <td>1</td>\n",
              "      <td>0.142857</td>\n",
              "    </tr>\n",
              "    <tr>\n",
              "      <th>im glad phone</th>\n",
              "      <td>1</td>\n",
              "      <td>0.142857</td>\n",
              "    </tr>\n",
              "    <tr>\n",
              "      <th>happy quality phone</th>\n",
              "      <td>1</td>\n",
              "      <td>0.142857</td>\n",
              "    </tr>\n",
              "    <tr>\n",
              "      <th>...</th>\n",
              "      <td>...</td>\n",
              "      <td>...</td>\n",
              "    </tr>\n",
              "    <tr>\n",
              "      <th>original apple brick</th>\n",
              "      <td>1</td>\n",
              "      <td>0.142857</td>\n",
              "    </tr>\n",
              "    <tr>\n",
              "      <th>im lol phone</th>\n",
              "      <td>1</td>\n",
              "      <td>0.142857</td>\n",
              "    </tr>\n",
              "    <tr>\n",
              "      <th>vez tiene unos</th>\n",
              "      <td>1</td>\n",
              "      <td>0.142857</td>\n",
              "    </tr>\n",
              "    <tr>\n",
              "      <th>renewed phone awesome</th>\n",
              "      <td>1</td>\n",
              "      <td>0.142857</td>\n",
              "    </tr>\n",
              "    <tr>\n",
              "      <th>user good choice</th>\n",
              "      <td>1</td>\n",
              "      <td>0.142857</td>\n",
              "    </tr>\n",
              "  </tbody>\n",
              "</table>\n",
              "<p>100 rows × 2 columns</p>\n",
              "</div>\n",
              "      <button class=\"colab-df-convert\" onclick=\"convertToInteractive('df-0c61cb32-abdb-46f0-8b25-534ce9b641ac')\"\n",
              "              title=\"Convert this dataframe to an interactive table.\"\n",
              "              style=\"display:none;\">\n",
              "        \n",
              "  <svg xmlns=\"http://www.w3.org/2000/svg\" height=\"24px\"viewBox=\"0 0 24 24\"\n",
              "       width=\"24px\">\n",
              "    <path d=\"M0 0h24v24H0V0z\" fill=\"none\"/>\n",
              "    <path d=\"M18.56 5.44l.94 2.06.94-2.06 2.06-.94-2.06-.94-.94-2.06-.94 2.06-2.06.94zm-11 1L8.5 8.5l.94-2.06 2.06-.94-2.06-.94L8.5 2.5l-.94 2.06-2.06.94zm10 10l.94 2.06.94-2.06 2.06-.94-2.06-.94-.94-2.06-.94 2.06-2.06.94z\"/><path d=\"M17.41 7.96l-1.37-1.37c-.4-.4-.92-.59-1.43-.59-.52 0-1.04.2-1.43.59L10.3 9.45l-7.72 7.72c-.78.78-.78 2.05 0 2.83L4 21.41c.39.39.9.59 1.41.59.51 0 1.02-.2 1.41-.59l7.78-7.78 2.81-2.81c.8-.78.8-2.07 0-2.86zM5.41 20L4 18.59l7.72-7.72 1.47 1.35L5.41 20z\"/>\n",
              "  </svg>\n",
              "      </button>\n",
              "      \n",
              "  <style>\n",
              "    .colab-df-container {\n",
              "      display:flex;\n",
              "      flex-wrap:wrap;\n",
              "      gap: 12px;\n",
              "    }\n",
              "\n",
              "    .colab-df-convert {\n",
              "      background-color: #E8F0FE;\n",
              "      border: none;\n",
              "      border-radius: 50%;\n",
              "      cursor: pointer;\n",
              "      display: none;\n",
              "      fill: #1967D2;\n",
              "      height: 32px;\n",
              "      padding: 0 0 0 0;\n",
              "      width: 32px;\n",
              "    }\n",
              "\n",
              "    .colab-df-convert:hover {\n",
              "      background-color: #E2EBFA;\n",
              "      box-shadow: 0px 1px 2px rgba(60, 64, 67, 0.3), 0px 1px 3px 1px rgba(60, 64, 67, 0.15);\n",
              "      fill: #174EA6;\n",
              "    }\n",
              "\n",
              "    [theme=dark] .colab-df-convert {\n",
              "      background-color: #3B4455;\n",
              "      fill: #D2E3FC;\n",
              "    }\n",
              "\n",
              "    [theme=dark] .colab-df-convert:hover {\n",
              "      background-color: #434B5C;\n",
              "      box-shadow: 0px 1px 3px 1px rgba(0, 0, 0, 0.15);\n",
              "      filter: drop-shadow(0px 1px 2px rgba(0, 0, 0, 0.3));\n",
              "      fill: #FFFFFF;\n",
              "    }\n",
              "  </style>\n",
              "\n",
              "      <script>\n",
              "        const buttonEl =\n",
              "          document.querySelector('#df-0c61cb32-abdb-46f0-8b25-534ce9b641ac button.colab-df-convert');\n",
              "        buttonEl.style.display =\n",
              "          google.colab.kernel.accessAllowed ? 'block' : 'none';\n",
              "\n",
              "        async function convertToInteractive(key) {\n",
              "          const element = document.querySelector('#df-0c61cb32-abdb-46f0-8b25-534ce9b641ac');\n",
              "          const dataTable =\n",
              "            await google.colab.kernel.invokeFunction('convertToInteractive',\n",
              "                                                     [key], {});\n",
              "          if (!dataTable) return;\n",
              "\n",
              "          const docLinkHtml = 'Like what you see? Visit the ' +\n",
              "            '<a target=\"_blank\" href=https://colab.research.google.com/notebooks/data_table.ipynb>data table notebook</a>'\n",
              "            + ' to learn more about interactive tables.';\n",
              "          element.innerHTML = '';\n",
              "          dataTable['output_type'] = 'display_data';\n",
              "          await google.colab.output.renderOutput(dataTable, element);\n",
              "          const docLink = document.createElement('div');\n",
              "          docLink.innerHTML = docLinkHtml;\n",
              "          element.appendChild(docLink);\n",
              "        }\n",
              "      </script>\n",
              "    </div>\n",
              "  </div>\n",
              "  "
            ]
          },
          "metadata": {},
          "execution_count": 7
        }
      ],
      "source": [
        "nlp = spacy.load(\"en\")\n",
        "df[[\"Phrase\"]].to_csv('train.csv',index=False)\n",
        "file = open('train.csv', 'r', encoding='latin-1')\n",
        "data_file2 = nlp(file.read())\n",
        "noun_phrases = []\n",
        "for noun in data_file2.noun_chunks:\n",
        "  noun_phrases.append(noun.text)\n",
        "print(noun_phrases)\n",
        "np_result = pd.DataFrame(noun_phrases, columns = ['noun_phrases'])\n",
        "vector = CountVectorizer(ngram_range=(3,3), analyzer='word')\n",
        "transform1 = vector.fit_transform(np_result['noun_phrases'].values.astype('U')) \n",
        "frequency = sum(transform1).toarray()[0]\n",
        "npp_result = pd.DataFrame(frequency, index=vector.get_feature_names(), columns=['noun_phrases_Frequency'])\n",
        "npp_result['noun_phrases_Probabilities'] = npp_result / npp_result.max()\n",
        "npp_result.sample(100)"
      ]
    },
    {
      "cell_type": "markdown",
      "source": [
        "# **Question 2: Undersand TF-IDF and Document representation**\n",
        "\n",
        "(40 points). Starting from the documents (all the reviews, or abstracts, or tweets) collected for assignment two, write a python program: \n",
        "\n",
        "(1) To build the **documents-terms weights (tf*idf) matrix bold text**.\n",
        "\n",
        "(2) To rank the documents with respect to query (design a query by yourself, for example, \"An Outstanding movie with a haunting performance and best character development\") by using **cosine similarity**.\n",
        "\n",
        "To build the documents-terms weights (tf*idf) matrix bold text."
      ],
      "metadata": {
        "id": "Yf7tR_86kYFb"
      }
    },
    {
      "cell_type": "code",
      "execution_count": 8,
      "metadata": {
        "id": "8MXSp8ScGLuY"
      },
      "outputs": [],
      "source": [
        "train, test = train_test_split(\n",
        "    df[[\"Phrase\", \"Sentiment\"]], random_state=0)\n",
        "X_train = train.Phrase\n",
        "X_test = test.Phrase\n",
        "y_train = train.Sentiment\n",
        "y_test = test.Sentiment\n"
      ]
    },
    {
      "cell_type": "code",
      "execution_count": 9,
      "metadata": {
        "id": "UiC_YjwVGLw_"
      },
      "outputs": [],
      "source": [
        "def get_accuracy():\n",
        "    pipe.fit(X_train, y_train)\n",
        "    y_pred = pipe.predict(X_test)\n",
        "    return round(accuracy_score(y_pred, y_test), 3)\n"
      ]
    },
    {
      "cell_type": "markdown",
      "metadata": {
        "id": "DOjYA121Hu53"
      },
      "source": [
        "# Baseline models\n",
        "We'll build them through simple steps:\n",
        "\n",
        "encoding each sentence through basic methods such as bag of words and tf-idf.\n",
        "using classic trees ensembles that use bagging and boosting, respectively.\n",
        "ignoring the sentence Id.\n",
        "ignoring in some cases the less frequent words."
      ]
    },
    {
      "cell_type": "markdown",
      "metadata": {
        "id": "ksTei3E4HxFs"
      },
      "source": [
        "## Random Forest, BOW, TF-IDF"
      ]
    },
    {
      "cell_type": "code",
      "execution_count": 10,
      "metadata": {
        "id": "FncSHpsTGLzo"
      },
      "outputs": [],
      "source": [
        "count_vectorizer = CountVectorizer(max_features=1000)\n",
        "random_forest = RandomForestClassifier(max_depth=10, n_estimators=10)\n"
      ]
    },
    {
      "cell_type": "code",
      "execution_count": 11,
      "metadata": {
        "id": "sg6On5W0GL2M"
      },
      "outputs": [],
      "source": [
        "pipe = make_pipeline(count_vectorizer, random_forest)\n"
      ]
    },
    {
      "cell_type": "code",
      "execution_count": 12,
      "metadata": {
        "colab": {
          "base_uri": "https://localhost:8080/"
        },
        "id": "Uwya3iYEGL4j",
        "outputId": "499a5ee9-f96f-4123-d0e8-2c459a8508b6"
      },
      "outputs": [
        {
          "output_type": "execute_result",
          "data": {
            "text/plain": [
              "0.744"
            ]
          },
          "metadata": {},
          "execution_count": 12
        }
      ],
      "source": [
        "get_accuracy()\n"
      ]
    },
    {
      "cell_type": "markdown",
      "metadata": {
        "id": "ildLSiIxH5sv"
      },
      "source": [
        "Let's look at the percentages of the classes in the true labels and in the predictions."
      ]
    },
    {
      "cell_type": "code",
      "execution_count": 13,
      "metadata": {
        "id": "MXvSO9OxGL7N"
      },
      "outputs": [],
      "source": [
        "y_pred = pipe.predict(X_test)\n"
      ]
    },
    {
      "cell_type": "code",
      "execution_count": 14,
      "metadata": {
        "colab": {
          "base_uri": "https://localhost:8080/"
        },
        "id": "7x26molTGL9w",
        "outputId": "4a56d9ea-8eef-40b4-c39b-36006c1e71dd"
      },
      "outputs": [
        {
          "output_type": "execute_result",
          "data": {
            "text/plain": [
              "Positive                                                                                                                                             0.624\n",
              "Negative                                                                                                                                             0.301\n",
              "Neutral                                                                                                                                              0.072\n",
              "t dilike the product i dislike the fact that this was taken out my account and no one notifed me that this large amount was coming out my account    0.003\n",
              "Name: Sentiment, dtype: float64"
            ]
          },
          "metadata": {},
          "execution_count": 14
        }
      ],
      "source": [
        "round(pd.Series(y_train).value_counts(normalize=True), 3)\n"
      ]
    },
    {
      "cell_type": "code",
      "execution_count": 15,
      "metadata": {
        "colab": {
          "base_uri": "https://localhost:8080/"
        },
        "id": "0M0Ey3PSGMAX",
        "outputId": "b6098efa-6e08-4ed6-856f-8ddf16932daf"
      },
      "outputs": [
        {
          "output_type": "execute_result",
          "data": {
            "text/plain": [
              "Positive    0.896\n",
              "Negative    0.104\n",
              "dtype: float64"
            ]
          },
          "metadata": {},
          "execution_count": 15
        }
      ],
      "source": [
        "round(pd.Series(y_pred).value_counts(normalize=True), 3)\n"
      ]
    },
    {
      "cell_type": "markdown",
      "metadata": {
        "id": "hOUU_Vl3H_C7"
      },
      "source": [
        "As we can see, Decision Trees in their basic configuration are not a good model for unbalanced data! In almost every node, the biggest category has the majority and that's what the model predicts for almost every row. The accuracy then is aproximately the percentage of the biggest category: 0.5.\n",
        "\n",
        "Let's add now weights."
      ]
    },
    {
      "cell_type": "code",
      "execution_count": 16,
      "metadata": {
        "colab": {
          "base_uri": "https://localhost:8080/"
        },
        "id": "qNMSnELzGMCs",
        "outputId": "1f18386c-cc27-437a-9382-5b1540c1ccdd"
      },
      "outputs": [
        {
          "output_type": "stream",
          "name": "stdout",
          "text": [
            "0.696\n",
            "0.696\n"
          ]
        }
      ],
      "source": [
        "random_forest.set_params(class_weight='balanced')\n",
        "print(get_accuracy())\n",
        "random_forest.set_params(class_weight='balanced_subsample')\n",
        "print(get_accuracy())\n"
      ]
    },
    {
      "cell_type": "markdown",
      "metadata": {
        "id": "F3uxv5m9ICvp"
      },
      "source": [
        "Surprisingly or not, when using as weights the inverse of the classes proportion, the accuracy gets worst.\n",
        "\n",
        "Through the confusion matrix we can see that the model is still predicting too much 2, although now the complexity increased."
      ]
    },
    {
      "cell_type": "code",
      "execution_count": 17,
      "metadata": {
        "colab": {
          "base_uri": "https://localhost:8080/",
          "height": 346
        },
        "id": "NcNQGq-1GMFC",
        "outputId": "23d7ce8f-3922-49da-d0af-e172fa21337d"
      },
      "outputs": [
        {
          "output_type": "display_data",
          "data": {
            "text/plain": [
              "<Figure size 720x360 with 2 Axes>"
            ],
            "image/png": "[encoded data removed]"
          },
          "metadata": {
            "needs_background": "light"
          }
        }
      ],
      "source": [
        "labels = [0, 1, 2]\n",
        "y_pred = pipe.predict(X_test)\n",
        "cm = confusion_matrix(y_test, y_pred)\n",
        "fig = plt.figure(figsize=(10, 5))\n",
        "ax = fig.add_subplot(111)\n",
        "cax = ax.matshow(cm)\n",
        "plt.title('Confusion matrix')\n",
        "fig.colorbar(cax)\n",
        "ax.set_xticklabels([''] + labels)\n",
        "ax.set_yticklabels([''] + labels)\n",
        "plt.xlabel('Predicted')\n",
        "plt.ylabel('True')\n",
        "plt.show()\n"
      ]
    },
    {
      "cell_type": "markdown",
      "metadata": {
        "id": "5QCYIfSVIGHD"
      },
      "source": [
        "We'll try also adding lemmatization and replacing the BOW with tf-idf."
      ]
    },
    {
      "cell_type": "code",
      "execution_count": 18,
      "metadata": {
        "id": "LXFeyuqbGMJv"
      },
      "outputs": [],
      "source": [
        "# taken from sklearn webpage\n",
        "from nltk import word_tokenize\n",
        "from nltk.stem import WordNetLemmatizer\n",
        "\n",
        "\n",
        "class LemmaTokenizer:\n",
        "    def __init__(self):\n",
        "        self.wnl = WordNetLemmatizer()\n",
        "\n",
        "    def __call__(self, doc):\n",
        "        return [self.wnl.lemmatize(t) for t in word_tokenize(doc)]\n"
      ]
    },
    {
      "cell_type": "code",
      "execution_count": 19,
      "metadata": {
        "colab": {
          "base_uri": "https://localhost:8080/"
        },
        "id": "8ZboqqgUGMM2",
        "outputId": "5dbcca6b-0176-4709-c8d3-545f4153dcd9"
      },
      "outputs": [
        {
          "output_type": "execute_result",
          "data": {
            "text/plain": [
              "0.704"
            ]
          },
          "metadata": {},
          "execution_count": 19
        }
      ],
      "source": [
        "pipe[0].set_params(tokenizer=LemmaTokenizer())\n",
        "get_accuracy()\n"
      ]
    },
    {
      "cell_type": "code",
      "execution_count": 20,
      "metadata": {
        "colab": {
          "base_uri": "https://localhost:8080/"
        },
        "id": "EC_Dh7WPGpuu",
        "outputId": "c4b5c27f-c0a5-4f87-9054-2221fdb60fe1"
      },
      "outputs": [
        {
          "output_type": "execute_result",
          "data": {
            "text/plain": [
              "0.664"
            ]
          },
          "metadata": {},
          "execution_count": 20
        }
      ],
      "source": [
        "tfidf_vectorizer = TfidfVectorizer()\n",
        "pipe.steps[0] = ('vectorizer', tfidf_vectorizer)\n",
        "get_accuracy()\n"
      ]
    },
    {
      "cell_type": "markdown",
      "metadata": {
        "id": "ys8KGu-oIJxq"
      },
      "source": [
        "That is, still poor results. We'll try with boosting."
      ]
    },
    {
      "cell_type": "markdown",
      "metadata": {
        "id": "qzOTvoGYIKRI"
      },
      "source": [
        "# Adaboost, chi2"
      ]
    },
    {
      "cell_type": "code",
      "execution_count": 21,
      "metadata": {
        "colab": {
          "base_uri": "https://localhost:8080/"
        },
        "id": "vuuIHBl6Gpxk",
        "outputId": "e9f658b5-8dc1-4826-f664-b92d062eb121"
      },
      "outputs": [
        {
          "output_type": "execute_result",
          "data": {
            "text/plain": [
              "0.632"
            ]
          },
          "metadata": {},
          "execution_count": 21
        }
      ],
      "source": [
        "ada_boost = AdaBoostClassifier()\n",
        "pipe.steps[1] = ('adaboost', ada_boost)\n",
        "get_accuracy()\n"
      ]
    },
    {
      "cell_type": "markdown",
      "metadata": {
        "id": "T274sb-nIPd-"
      },
      "source": [
        "We now see an improvement. We'll try now using only the most relevant words according to chi2."
      ]
    },
    {
      "cell_type": "code",
      "execution_count": 22,
      "metadata": {
        "colab": {
          "base_uri": "https://localhost:8080/"
        },
        "id": "hXUT-nRxGp2x",
        "outputId": "2f3c039d-da3b-4176-e297-ef231625246d"
      },
      "outputs": [
        {
          "output_type": "execute_result",
          "data": {
            "text/plain": [
              "<bound method CountVectorizer.get_feature_names of CountVectorizer(max_features=1000,\n",
              "                tokenizer=<__main__.LemmaTokenizer object at 0x7f30052c10d0>)>"
            ]
          },
          "metadata": {},
          "execution_count": 22
        }
      ],
      "source": [
        "count_vectorizer.get_feature_names\n"
      ]
    },
    {
      "cell_type": "code",
      "execution_count": 23,
      "metadata": {
        "colab": {
          "base_uri": "https://localhost:8080/"
        },
        "id": "Zzfh6RzdGp44",
        "outputId": "fcef5809-e519-492c-d2a4-42c9082a4440"
      },
      "outputs": [
        {
          "output_type": "execute_result",
          "data": {
            "text/plain": [
              "0.648"
            ]
          },
          "metadata": {},
          "execution_count": 23
        }
      ],
      "source": [
        "count_vectorizer = CountVectorizer(max_features=1000)\n",
        "\n",
        "bow = count_vectorizer.fit_transform(X_train)\n",
        "\n",
        "words = count_vectorizer.get_feature_names()\n",
        "\n",
        "p_value_limit = 0.95\n",
        "\n",
        "dtf_features = pd.DataFrame()\n",
        "\n",
        "for cat in range(3):\n",
        "    _, p = chi2(bow, y_train == cat)\n",
        "    dtf_features = dtf_features.append(pd.DataFrame(\n",
        "        {\"feature\": words, \"score\": 1-p, \"y\": cat}))\n",
        "    dtf_features = dtf_features.sort_values([\"y\", \"score\"],\n",
        "                                            ascending=[True, False])\n",
        "    # dtf_features = dtf_features[dtf_features[\"score\"] > p_value_limit]\n",
        "\n",
        "X_names = dtf_features[\"feature\"].unique().tolist()\n",
        "\n",
        "pipe['vectorizer'].set_params(vocabulary=X_names)\n",
        "\n",
        "get_accuracy()\n"
      ]
    },
    {
      "cell_type": "markdown",
      "metadata": {
        "id": "phv4Ny18IhPO"
      },
      "source": [
        "# Neural networks"
      ]
    },
    {
      "cell_type": "markdown",
      "metadata": {
        "id": "2kSjEFqQIkex"
      },
      "source": [
        "We'll use a simple NN with only one hidden layer."
      ]
    },
    {
      "cell_type": "code",
      "execution_count": 24,
      "metadata": {
        "id": "m8t6Pd6dGp-U"
      },
      "outputs": [],
      "source": [
        "mc = ModelCheckpoint('best_model.h5', monitor='val_accuracy',\n",
        "                     mode='max', verbose=1, save_best_only=True)\n"
      ]
    },
    {
      "cell_type": "code",
      "execution_count": 25,
      "metadata": {
        "id": "OmsK7tT5GqAq"
      },
      "outputs": [],
      "source": [
        "def fit_sequential(X_train, X_test, sequential=None, epochs=20, patience=5):\n",
        "\n",
        "    if sequential is None:\n",
        "        input_size = X_train.shape[1]\n",
        "\n",
        "        sequential = tf.keras.models.Sequential([\n",
        "            tf.keras.layers.Flatten(input_shape=(input_size, )),\n",
        "            tf.keras.layers.Dense(128),\n",
        "            tf.keras.layers.Dropout(0.2),\n",
        "            tf.keras.layers.Dense(3, activation='sigmoid')\n",
        "        ])\n",
        "        loss_fn = tf.keras.losses.CategoricalCrossentropy(\n",
        "            from_logits=True)\n",
        "        sequential.compile(optimizer='adam', loss='sparse_categorical_crossentropy',\n",
        "                           metrics=['accuracy'])\n",
        "        global mc\n",
        "        mc = ModelCheckpoint('best_model.h5', monitor='val_accuracy',\n",
        "                             mode='max', verbose=1, save_best_only=True)\n",
        "\n",
        "    es = EarlyStopping(monitor='val_accuracy', mode='max',\n",
        "                       verbose=1, patience=patience)\n",
        "    sequential.fit(X_train, np.array(y_train), epochs=epochs, verbose=1,\n",
        "                   validation_data=(X_test, np.array(y_test)), callbacks=[es, mc])\n",
        "    sequential.load_weights('best_model.h5')\n",
        "    return sequential\n"
      ]
    },
    {
      "cell_type": "code",
      "source": [
        "sentiment_mapper = {'Negative': 0, 'Positive': 1, 'Neutral': 2}\n",
        "df.Sentiment = df.Sentiment.map(sentiment_mapper)\n",
        "df = df[df.Sentiment < 3.0]\n",
        "print(df.head())\n",
        "train, test = train_test_split(\n",
        "    df, random_state=0)\n",
        "X_train = train.Phrase\n",
        "X_test = test.Phrase\n",
        "y_train = train.Sentiment\n",
        "y_test = test.Sentiment"
      ],
      "metadata": {
        "colab": {
          "base_uri": "https://localhost:8080/"
        },
        "id": "_TVI2VU3VDx3",
        "outputId": "bf9994e1-3534-42c2-a431-1140ad7a0dce"
      },
      "execution_count": 26,
      "outputs": [
        {
          "output_type": "stream",
          "name": "stdout",
          "text": [
            "                                              Phrase  Sentiment\n",
            "0  purchased product advertised fully unlocked in...        0.0\n",
            "1  feeling bit skeptical placed order proven wron...        1.0\n",
            "2                           phone unlocked could use        0.0\n",
            "3  screen came cracked popped frame hopefully ret...        0.0\n",
            "4  careful mine scratch screen small still used p...        0.0\n"
          ]
        }
      ]
    },
    {
      "cell_type": "markdown",
      "metadata": {
        "id": "FQMRiY0lInff"
      },
      "source": [
        "## Using tf–idf"
      ]
    },
    {
      "cell_type": "code",
      "execution_count": 27,
      "metadata": {
        "id": "J1HwJB8jGqDR"
      },
      "outputs": [],
      "source": [
        "vectorizer = TfidfVectorizer()\n"
      ]
    },
    {
      "cell_type": "code",
      "execution_count": 28,
      "metadata": {
        "id": "vqSWmisD6guN"
      },
      "outputs": [],
      "source": [
        "def convert_sparse_matrix_to_sparse_tensor(X):\n",
        "    coo = X.tocoo()\n",
        "    indices = np.mat([coo.row, coo.col]).transpose()\n",
        "    return tf.sparse.reorder(tf.SparseTensor(indices, coo.data, coo.shape))\n"
      ]
    },
    {
      "cell_type": "code",
      "execution_count": 29,
      "metadata": {
        "id": "qInOZBkOGqFZ"
      },
      "outputs": [],
      "source": [
        "X_train_vectorized = vectorizer.fit_transform(X_train).toarray()\n",
        "X_test_vectorized = vectorizer.transform(X_test).toarray()\n"
      ]
    },
    {
      "cell_type": "code",
      "execution_count": 30,
      "metadata": {
        "colab": {
          "base_uri": "https://localhost:8080/"
        },
        "id": "MiaiJUSvGqH_",
        "outputId": "b8d9ab8d-9c3c-48f2-fdbb-14778443b580"
      },
      "outputs": [
        {
          "output_type": "stream",
          "name": "stdout",
          "text": [
            "Epoch 1/20\n",
            "12/12 [==============================] - ETA: 0s - loss: 1.0175 - accuracy: 0.6150\n",
            "Epoch 1: val_accuracy improved from -inf to 0.65600, saving model to best_model.h5\n",
            "12/12 [==============================] - 2s 63ms/step - loss: 1.0175 - accuracy: 0.6150 - val_loss: 0.9135 - val_accuracy: 0.6560\n",
            "Epoch 2/20\n",
            "10/12 [========================>.....] - ETA: 0s - loss: 0.8195 - accuracy: 0.6625\n",
            "Epoch 2: val_accuracy did not improve from 0.65600\n",
            "12/12 [==============================] - 0s 21ms/step - loss: 0.8096 - accuracy: 0.6631 - val_loss: 0.7804 - val_accuracy: 0.6560\n",
            "Epoch 3/20\n",
            "12/12 [==============================] - ETA: 0s - loss: 0.6695 - accuracy: 0.6631\n",
            "Epoch 3: val_accuracy did not improve from 0.65600\n",
            "12/12 [==============================] - 0s 20ms/step - loss: 0.6695 - accuracy: 0.6631 - val_loss: 0.7083 - val_accuracy: 0.6560\n",
            "Epoch 4/20\n",
            " 9/12 [=====================>........] - ETA: 0s - loss: 0.5593 - accuracy: 0.7778\n",
            "Epoch 4: val_accuracy improved from 0.65600 to 0.69600, saving model to best_model.h5\n",
            "12/12 [==============================] - 0s 25ms/step - loss: 0.5543 - accuracy: 0.7807 - val_loss: 0.6550 - val_accuracy: 0.6960\n",
            "Epoch 5/20\n",
            "11/12 [==========================>...] - ETA: 0s - loss: 0.4539 - accuracy: 0.8722\n",
            "Epoch 5: val_accuracy improved from 0.69600 to 0.75200, saving model to best_model.h5\n",
            "12/12 [==============================] - 0s 24ms/step - loss: 0.4598 - accuracy: 0.8690 - val_loss: 0.6087 - val_accuracy: 0.7520\n",
            "Epoch 6/20\n",
            "12/12 [==============================] - ETA: 0s - loss: 0.3789 - accuracy: 0.9037\n",
            "Epoch 6: val_accuracy improved from 0.75200 to 0.80000, saving model to best_model.h5\n",
            "12/12 [==============================] - 0s 18ms/step - loss: 0.3789 - accuracy: 0.9037 - val_loss: 0.5722 - val_accuracy: 0.8000\n",
            "Epoch 7/20\n",
            " 9/12 [=====================>........] - ETA: 0s - loss: 0.3168 - accuracy: 0.9097\n",
            "Epoch 7: val_accuracy improved from 0.80000 to 0.80800, saving model to best_model.h5\n",
            "12/12 [==============================] - 0s 29ms/step - loss: 0.3089 - accuracy: 0.9171 - val_loss: 0.5425 - val_accuracy: 0.8080\n",
            "Epoch 8/20\n",
            "12/12 [==============================] - ETA: 0s - loss: 0.2507 - accuracy: 0.9332\n",
            "Epoch 8: val_accuracy improved from 0.80800 to 0.83200, saving model to best_model.h5\n",
            "12/12 [==============================] - 0s 25ms/step - loss: 0.2507 - accuracy: 0.9332 - val_loss: 0.5216 - val_accuracy: 0.8320\n",
            "Epoch 9/20\n",
            " 9/12 [=====================>........] - ETA: 0s - loss: 0.2016 - accuracy: 0.9583\n",
            "Epoch 9: val_accuracy improved from 0.83200 to 0.84000, saving model to best_model.h5\n",
            "12/12 [==============================] - 0s 22ms/step - loss: 0.2039 - accuracy: 0.9545 - val_loss: 0.5055 - val_accuracy: 0.8400\n",
            "Epoch 10/20\n",
            "12/12 [==============================] - ETA: 0s - loss: 0.1669 - accuracy: 0.9786\n",
            "Epoch 10: val_accuracy did not improve from 0.84000\n",
            "12/12 [==============================] - 0s 17ms/step - loss: 0.1669 - accuracy: 0.9786 - val_loss: 0.4929 - val_accuracy: 0.8320\n",
            "Epoch 11/20\n",
            " 9/12 [=====================>........] - ETA: 0s - loss: 0.1409 - accuracy: 0.9896\n",
            "Epoch 11: val_accuracy did not improve from 0.84000\n",
            "12/12 [==============================] - 0s 18ms/step - loss: 0.1385 - accuracy: 0.9920 - val_loss: 0.4841 - val_accuracy: 0.8320\n",
            "Epoch 12/20\n",
            " 9/12 [=====================>........] - ETA: 0s - loss: 0.1210 - accuracy: 0.9965\n",
            "Epoch 12: val_accuracy did not improve from 0.84000\n",
            "12/12 [==============================] - 0s 18ms/step - loss: 0.1115 - accuracy: 0.9973 - val_loss: 0.4776 - val_accuracy: 0.8240\n",
            "Epoch 13/20\n",
            "11/12 [==========================>...] - ETA: 0s - loss: 0.0955 - accuracy: 0.9972\n",
            "Epoch 13: val_accuracy did not improve from 0.84000\n",
            "12/12 [==============================] - 0s 17ms/step - loss: 0.0941 - accuracy: 0.9973 - val_loss: 0.4740 - val_accuracy: 0.8240\n",
            "Epoch 14/20\n",
            "10/12 [========================>.....] - ETA: 0s - loss: 0.0794 - accuracy: 1.0000\n",
            "Epoch 14: val_accuracy did not improve from 0.84000\n",
            "12/12 [==============================] - 0s 21ms/step - loss: 0.0770 - accuracy: 1.0000 - val_loss: 0.4714 - val_accuracy: 0.8240\n",
            "Epoch 14: early stopping\n"
          ]
        }
      ],
      "source": [
        "sequential = fit_sequential(X_train_vectorized, X_test_vectorized)\n"
      ]
    },
    {
      "cell_type": "markdown",
      "source": [
        "# **Question 3: Create your own word embedding model**\n",
        "\n",
        "(20 points). Use the data you collected for assignment two to build a word embedding model: \n",
        "\n",
        "(1) Train a 300-dimension word embedding (it can be word2vec, glove, ulmfit, bert, or others).\n",
        "\n",
        "(2) Visualize the word embedding model you created.\n",
        "\n",
        "Reference: https://machinelearningmastery.com/develop-word-embeddings-python-gensim/"
      ],
      "metadata": {
        "id": "5UJFujuelJSh"
      }
    },
    {
      "cell_type": "markdown",
      "metadata": {
        "id": "ejMUmwPOIrxc"
      },
      "source": [
        "## Using Word2vec"
      ]
    },
    {
      "cell_type": "code",
      "execution_count": 31,
      "metadata": {
        "id": "b63v6Kn8GqKl"
      },
      "outputs": [],
      "source": [
        "class W2VTransformer(BaseEstimator, TransformerMixin):\n",
        "    def __init__(self, size):\n",
        "        self.size = size\n",
        "        pass\n",
        "\n",
        "    def fit(self, X, y=None):\n",
        "        self.model = Word2Vec(min_count=1,\n",
        "                              window=2,\n",
        "                              size=self.size,\n",
        "                              sample=6e-5,\n",
        "                              alpha=0.03,\n",
        "                              min_alpha=0.0007,\n",
        "                              negative=20)\n",
        "        sentences = [row.split() for row in X]\n",
        "\n",
        "        self.model.build_vocab(sentences)\n",
        "        self.model.train(\n",
        "            sentences, total_examples=self.model.corpus_count, epochs=self.model.epochs)\n",
        "        return self\n",
        "\n",
        "    def get_vector(self, sentence):\n",
        "        relevant_words_vectors = [self.model.wv[x]\n",
        "                                  for x in sentence.split() if x in self.model.wv.vocab]\n",
        "        if not relevant_words_vectors:\n",
        "            return np.zeros(self.model.vector_size)  # .astype('float32')\n",
        "        return np.mean(relevant_words_vectors, axis=0)\n",
        "\n",
        "    def transform(self, X):\n",
        "        arr = np.array([])\n",
        "        for elem in X:\n",
        "            arr = np.concatenate([arr, self.get_vector(elem)])\n",
        "        return arr.reshape(-1, self.size)\n"
      ]
    },
    {
      "cell_type": "code",
      "execution_count": 32,
      "metadata": {
        "id": "UNTloYfLHEmk"
      },
      "outputs": [],
      "source": [
        "vectorizer = W2VTransformer(4)\n",
        "X_train_vectorized = vectorizer.fit_transform(X_train)\n",
        "X_test_vectorized = vectorizer.transform(X_test)\n"
      ]
    },
    {
      "cell_type": "code",
      "execution_count": 33,
      "metadata": {
        "colab": {
          "base_uri": "https://localhost:8080/"
        },
        "id": "4bKqlOWqHEpY",
        "outputId": "4dad9903-b20c-4471-c216-9765cac38849"
      },
      "outputs": [
        {
          "output_type": "stream",
          "name": "stdout",
          "text": [
            "Epoch 1/20\n",
            " 1/12 [=>............................] - ETA: 9s - loss: 1.0384 - accuracy: 0.5938\n",
            "Epoch 1: val_accuracy improved from -inf to 0.65600, saving model to best_model.h5\n",
            "12/12 [==============================] - 1s 41ms/step - loss: 0.9728 - accuracy: 0.6310 - val_loss: 0.8782 - val_accuracy: 0.6560\n",
            "Epoch 2/20\n",
            " 1/12 [=>............................] - ETA: 0s - loss: 0.8385 - accuracy: 0.7188\n",
            "Epoch 2: val_accuracy did not improve from 0.65600\n",
            "12/12 [==============================] - 0s 9ms/step - loss: 0.8849 - accuracy: 0.6337 - val_loss: 0.8216 - val_accuracy: 0.6560\n",
            "Epoch 3/20\n",
            " 1/12 [=>............................] - ETA: 0s - loss: 0.9798 - accuracy: 0.5000\n",
            "Epoch 3: val_accuracy did not improve from 0.65600\n",
            "12/12 [==============================] - 0s 12ms/step - loss: 0.8537 - accuracy: 0.6337 - val_loss: 0.8046 - val_accuracy: 0.6560\n",
            "Epoch 4/20\n",
            "11/12 [==========================>...] - ETA: 0s - loss: 0.8575 - accuracy: 0.6307\n",
            "Epoch 4: val_accuracy did not improve from 0.65600\n",
            "12/12 [==============================] - 0s 11ms/step - loss: 0.8498 - accuracy: 0.6337 - val_loss: 0.7984 - val_accuracy: 0.6560\n",
            "Epoch 5/20\n",
            " 1/12 [=>............................] - ETA: 0s - loss: 0.7131 - accuracy: 0.6875\n",
            "Epoch 5: val_accuracy did not improve from 0.65600\n",
            "12/12 [==============================] - 0s 8ms/step - loss: 0.8488 - accuracy: 0.6337 - val_loss: 0.7968 - val_accuracy: 0.6560\n",
            "Epoch 6/20\n",
            " 1/12 [=>............................] - ETA: 0s - loss: 0.6820 - accuracy: 0.7188\n",
            "Epoch 6: val_accuracy did not improve from 0.65600\n",
            "12/12 [==============================] - 0s 9ms/step - loss: 0.8538 - accuracy: 0.6337 - val_loss: 0.7973 - val_accuracy: 0.6560\n",
            "Epoch 6: early stopping\n"
          ]
        }
      ],
      "source": [
        "sequential = fit_sequential(X_train_vectorized, X_test_vectorized)\n"
      ]
    },
    {
      "cell_type": "code",
      "execution_count": 34,
      "metadata": {
        "id": "2EqR2jsLHEsQ"
      },
      "outputs": [],
      "source": [
        "pca = PCA(n_components=2)\n",
        "X_train_vectorized_2d = pca.fit_transform(X_train_vectorized)\n"
      ]
    },
    {
      "cell_type": "code",
      "execution_count": 35,
      "metadata": {
        "colab": {
          "base_uri": "https://localhost:8080/",
          "height": 483
        },
        "id": "cEm8eG8SHEv4",
        "outputId": "8de4841b-b1b1-401a-b75e-013e066dad58"
      },
      "outputs": [
        {
          "output_type": "display_data",
          "data": {
            "text/plain": [
              "<Figure size 1008x576 with 1 Axes>"
            ],
            "image/png": "[encoded data removed]"
          },
          "metadata": {
            "needs_background": "light"
          }
        }
      ],
      "source": [
        "plt.figure(figsize=(14, 8))\n",
        "_ = sns.scatterplot(\n",
        "    X_train_vectorized_2d[:, 0], X_train_vectorized_2d[:, 1], hue=y_train)\n"
      ]
    },
    {
      "cell_type": "markdown",
      "metadata": {
        "id": "ixutlNp2IxnJ"
      },
      "source": [
        "Even though the scatterplot is not showing us the \"neutral\" points we can see that indeed there is not much of a separation between the classes\n",
        "\n",
        "with the same preprocessing as before but using a neural network, the results are slightly better. It looks like we need to change the preprocessing in such a way that we start using the order between the words. A very first simple method, before we try more complex stuff like Word2Vec or LDA, would be adding 2-grams."
      ]
    },
    {
      "cell_type": "markdown",
      "metadata": {
        "id": "mCZgIIveIyJA"
      },
      "source": [
        "## Using BERT"
      ]
    },
    {
      "cell_type": "code",
      "execution_count": 36,
      "metadata": {
        "colab": {
          "base_uri": "https://localhost:8080/"
        },
        "id": "9PI-X6YcHNgE",
        "outputId": "d4c88af3-5c34-401f-cac3-03cb740532b2"
      },
      "outputs": [
        {
          "output_type": "stream",
          "name": "stderr",
          "text": [
            "Some weights of the model checkpoint at distilbert-base-uncased were not used when initializing DistilBertModel: ['vocab_layer_norm.weight', 'vocab_projector.weight', 'vocab_transform.bias', 'vocab_transform.weight', 'vocab_layer_norm.bias', 'vocab_projector.bias']\n",
            "- This IS expected if you are initializing DistilBertModel from the checkpoint of a model trained on another task or with another architecture (e.g. initializing a BertForSequenceClassification model from a BertForPreTraining model).\n",
            "- This IS NOT expected if you are initializing DistilBertModel from the checkpoint of a model that you expect to be exactly identical (initializing a BertForSequenceClassification model from a BertForSequenceClassification model).\n"
          ]
        }
      ],
      "source": [
        "model_class, tokenizer_class, pretrained_weights = (\n",
        "    transformers.DistilBertModel, transformers.DistilBertTokenizer, 'distilbert-base-uncased')\n",
        "tokenizer = tokenizer_class.from_pretrained(pretrained_weights)\n",
        "model = model_class.from_pretrained(pretrained_weights)\n"
      ]
    },
    {
      "cell_type": "code",
      "execution_count": 37,
      "metadata": {
        "colab": {
          "base_uri": "https://localhost:8080/"
        },
        "id": "WMd46EjDHNjK",
        "outputId": "85e6b504-96a7-4ef2-f254-13eefd990de7"
      },
      "outputs": [
        {
          "output_type": "stream",
          "name": "stderr",
          "text": [
            "/usr/local/lib/python3.7/dist-packages/ipykernel_launcher.py:14: UserWarning: To copy construct from a tensor, it is recommended to use sourceTensor.clone().detach() or sourceTensor.clone().detach().requires_grad_(True), rather than torch.tensor(sourceTensor).\n",
            "  \n"
          ]
        }
      ],
      "source": [
        "kaggle_test = df\n",
        "\n",
        "all_sentences = X_train.append([X_test, kaggle_test.Phrase])\n",
        "\n",
        "tokenized = all_sentences.apply(\n",
        "    lambda x: tokenizer.encode(x, add_special_tokens=True))\n",
        "\n",
        "max_len = max(tokenized.apply(len))\n",
        "padded = np.array([row + [0]*(max_len-len(row)) for row in tokenized])\n",
        "\n",
        "attention_mask = np.where(padded != 0, 1, 0)\n",
        "\n",
        "input_ids = torch.tensor(padded)\n",
        "input_ids = torch.tensor(input_ids).to(torch.int64)\n",
        "\n",
        "attention_mask = torch.tensor(attention_mask)\n",
        "\n",
        "vector_length = model(input_ids[:1], attention_mask=attention_mask[:1])[\n",
        "    0].shape[2]\n",
        "\n",
        "vectors = np.zeros(shape=(0, vector_length))\n"
      ]
    },
    {
      "cell_type": "markdown",
      "metadata": {
        "id": "BQRhf_F_I3wL"
      },
      "source": [
        "We're using an already trained version of distilBERT. In order to create the embedding, this has to be done in batches. For example through the below function:"
      ]
    },
    {
      "cell_type": "code",
      "execution_count": 38,
      "metadata": {
        "id": "GfSpQA4OHNlP"
      },
      "outputs": [],
      "source": [
        "def get_vectors():\n",
        "    start = time.time()\n",
        "    k = 1000\n",
        "    for i in range(0, len(all_sentences), k):\n",
        "        with torch.no_grad():\n",
        "            last_hidden_states = model(\n",
        "                input_ids[i:i+k], attention_mask=input_ids[i:i+k])\n",
        "        vectors = np.concatenate([vectors, last_hidden_states[0].numpy(\n",
        "        )[:, 0, :]]) if i > 0 else last_hidden_states[0].numpy()[:, 0, :]\n",
        "    return vectors\n"
      ]
    },
    {
      "cell_type": "markdown",
      "metadata": {
        "id": "Zw6Sux6OI6zW"
      },
      "source": [
        "Doing so in a CPU can be highly time consuming (A way of speeding it up could be to use much less precision-numbers). I already saved the data."
      ]
    },
    {
      "cell_type": "code",
      "execution_count": 39,
      "metadata": {
        "id": "v5pqyUewHNn5"
      },
      "outputs": [],
      "source": [
        "if os.path.isfile(\"bert_vectors.csv\"):\n",
        "    bert_vectors_df = pd.read_csv(\"bert_vectors.csv\")\n",
        "    vectors = bert_vectors_df.iloc[:, 1:]\n",
        "elif os.path.isfile(\"bert_vectors.pickle\"):\n",
        "    with open('bert_vectors.pickle', 'rb') as handle:\n",
        "        vectors = pickle.load(handle)\n",
        "else:\n",
        "    vectors = get_vectors()\n",
        "    with open('bert_vectors.pickle', 'wb') as handle:\n",
        "        pickle.dump(vectors, handle)\n"
      ]
    },
    {
      "cell_type": "code",
      "execution_count": 40,
      "metadata": {
        "id": "iaeLbRkUHNqt"
      },
      "outputs": [],
      "source": [
        "X_train_vectorized = vectors[:len(X_train)]\n",
        "X_test_vectorized = vectors[len(X_train):len(X_train)+len(X_test)]\n",
        "kaggle_test_vectorized = vectors[len(X_train)+len(X_test):]\n"
      ]
    },
    {
      "cell_type": "markdown",
      "source": [
        "# **Question 4: Create your own training and evaluation data for sentiment analysis**\n",
        "\n",
        "(15 points). **You dodn't need to write program for this question!** Read each review (abstract or tweet) you collected in detail, and annotate each review with a sentiment (positive, negative, or neutral). Save the annotated dataset into a csv file with three columns (first column: document_id, clean_text, sentiment), upload the csv file to GitHub and submit the file link blew. This datset will be used for assignment four: sentiment analysis and text classification. \n"
      ],
      "metadata": {
        "id": "5Q-bPjahl3j_"
      }
    },
    {
      "cell_type": "code",
      "execution_count": 41,
      "metadata": {
        "colab": {
          "base_uri": "https://localhost:8080/"
        },
        "id": "DvwJeuGMHZUF",
        "outputId": "894086fd-7ea6-475e-c843-6faac3e04560"
      },
      "outputs": [
        {
          "output_type": "stream",
          "name": "stdout",
          "text": [
            "Epoch 1/10\n",
            " 1/12 [=>............................] - ETA: 10s - loss: 1.6810 - accuracy: 0.0625\n",
            "Epoch 1: val_accuracy improved from -inf to 0.59200, saving model to best_model.h5\n",
            "12/12 [==============================] - 1s 47ms/step - loss: 1.1098 - accuracy: 0.5160 - val_loss: 0.9749 - val_accuracy: 0.5920\n",
            "Epoch 2/10\n",
            "11/12 [==========================>...] - ETA: 0s - loss: 0.9027 - accuracy: 0.5852\n",
            "Epoch 2: val_accuracy did not improve from 0.59200\n",
            "12/12 [==============================] - 0s 12ms/step - loss: 0.9106 - accuracy: 0.5722 - val_loss: 0.9549 - val_accuracy: 0.4640\n",
            "Epoch 3/10\n",
            " 9/12 [=====================>........] - ETA: 0s - loss: 0.8541 - accuracy: 0.6250\n",
            "Epoch 3: val_accuracy improved from 0.59200 to 0.64800, saving model to best_model.h5\n",
            "12/12 [==============================] - 0s 14ms/step - loss: 0.8355 - accuracy: 0.6364 - val_loss: 0.8564 - val_accuracy: 0.6480\n",
            "Epoch 4/10\n",
            " 1/12 [=>............................] - ETA: 0s - loss: 0.8988 - accuracy: 0.6562\n",
            "Epoch 4: val_accuracy did not improve from 0.64800\n",
            "12/12 [==============================] - 0s 9ms/step - loss: 0.8362 - accuracy: 0.6230 - val_loss: 0.8540 - val_accuracy: 0.5840\n",
            "Epoch 5/10\n",
            "10/12 [========================>.....] - ETA: 0s - loss: 0.7989 - accuracy: 0.6344\n",
            "Epoch 5: val_accuracy did not improve from 0.64800\n",
            "12/12 [==============================] - 0s 13ms/step - loss: 0.7896 - accuracy: 0.6471 - val_loss: 0.8490 - val_accuracy: 0.6480\n",
            "Epoch 6/10\n",
            " 1/12 [=>............................] - ETA: 0s - loss: 0.6113 - accuracy: 0.6562\n",
            "Epoch 6: val_accuracy did not improve from 0.64800\n",
            "12/12 [==============================] - 0s 9ms/step - loss: 0.7505 - accuracy: 0.6471 - val_loss: 0.9063 - val_accuracy: 0.6480\n",
            "Epoch 7/10\n",
            " 1/12 [=>............................] - ETA: 0s - loss: 0.9074 - accuracy: 0.5312\n",
            "Epoch 7: val_accuracy did not improve from 0.64800\n",
            "12/12 [==============================] - 0s 9ms/step - loss: 0.7391 - accuracy: 0.6711 - val_loss: 0.8997 - val_accuracy: 0.6480\n",
            "Epoch 8/10\n",
            " 6/12 [==============>...............] - ETA: 0s - loss: 0.6490 - accuracy: 0.6875\n",
            "Epoch 8: val_accuracy did not improve from 0.64800\n",
            "12/12 [==============================] - 0s 17ms/step - loss: 0.7051 - accuracy: 0.6711 - val_loss: 0.8831 - val_accuracy: 0.5920\n",
            "Epoch 8: early stopping\n"
          ]
        }
      ],
      "source": [
        "sequential = fit_sequential(X_train_vectorized, X_test_vectorized, epochs=10)\n"
      ]
    },
    {
      "cell_type": "code",
      "execution_count": 42,
      "metadata": {
        "colab": {
          "base_uri": "https://localhost:8080/"
        },
        "id": "5WtqPL_YHZZh",
        "outputId": "9e77413c-d41a-415b-a698-0a111d0c5223"
      },
      "outputs": [
        {
          "output_type": "stream",
          "name": "stdout",
          "text": [
            "Epoch 1/20\n",
            " 1/12 [=>............................] - ETA: 9s - loss: 1.1409 - accuracy: 0.1250\n",
            "Epoch 1: val_accuracy improved from -inf to 0.65600, saving model to best_model.h5\n",
            "12/12 [==============================] - 1s 34ms/step - loss: 1.0628 - accuracy: 0.4626 - val_loss: 0.9653 - val_accuracy: 0.6560\n",
            "Epoch 2/20\n",
            " 1/12 [=>............................] - ETA: 0s - loss: 0.9155 - accuracy: 0.8125\n",
            "Epoch 2: val_accuracy did not improve from 0.65600\n",
            "12/12 [==============================] - 0s 9ms/step - loss: 0.9347 - accuracy: 0.6337 - val_loss: 0.8653 - val_accuracy: 0.6560\n",
            "Epoch 3/20\n",
            " 1/12 [=>............................] - ETA: 0s - loss: 0.8301 - accuracy: 0.6875\n",
            "Epoch 3: val_accuracy did not improve from 0.65600\n",
            "12/12 [==============================] - 0s 11ms/step - loss: 0.8766 - accuracy: 0.6337 - val_loss: 0.8244 - val_accuracy: 0.6560\n",
            "Epoch 4/20\n",
            " 1/12 [=>............................] - ETA: 0s - loss: 0.7670 - accuracy: 0.6875\n",
            "Epoch 4: val_accuracy did not improve from 0.65600\n",
            "12/12 [==============================] - 0s 8ms/step - loss: 0.8640 - accuracy: 0.6337 - val_loss: 0.8085 - val_accuracy: 0.6560\n",
            "Epoch 5/20\n",
            "11/12 [==========================>...] - ETA: 0s - loss: 0.8371 - accuracy: 0.6449\n",
            "Epoch 5: val_accuracy did not improve from 0.65600\n",
            "12/12 [==============================] - 0s 13ms/step - loss: 0.8551 - accuracy: 0.6337 - val_loss: 0.8013 - val_accuracy: 0.6560\n",
            "Epoch 6/20\n",
            " 1/12 [=>............................] - ETA: 0s - loss: 0.7187 - accuracy: 0.7188\n",
            "Epoch 6: val_accuracy did not improve from 0.65600\n",
            "12/12 [==============================] - 0s 9ms/step - loss: 0.8459 - accuracy: 0.6337 - val_loss: 0.8001 - val_accuracy: 0.6560\n",
            "Epoch 6: early stopping\n"
          ]
        }
      ],
      "source": [
        "vectorizer = W2VTransformer(4)\n",
        "X_train_vectorized = vectorizer.fit_transform(X_train)\n",
        "X_test_vectorized = vectorizer.transform(X_test)\n",
        "sequential = fit_sequential(X_train_vectorized, X_test_vectorized)\n",
        "\n",
        "\n",
        "def get_sentiment(model, vectorizer, mapper, text):\n",
        "    return mapper.get(np.argmax(max(model.predict(vectorizer.transform(pd.Series([text]))))))\n"
      ]
    },
    {
      "cell_type": "code",
      "execution_count": 43,
      "metadata": {
        "id": "ket1JeQYHZlw"
      },
      "outputs": [],
      "source": [
        "get_sentiment(sequential, vectorizer, sentiment_mapper, \"The new big one is huge\")\n"
      ]
    },
    {
      "cell_type": "markdown",
      "metadata": {
        "id": "FmzjCrXalJb3"
      },
      "source": [
        "Firstly we are using random forest We build them in simple steps. After loading the CSV file, splitting the data into X train, x_test, y_train and y_test. CountVectorizer function is used to convert the text data into numercial data.\n",
        "encoding each sentence with simple techniques such as bag of words and tf-idf Traditional tree ensembles with bagging and boosting are used. \n",
        "\n",
        "Random Forest and AdaBoost algorithms are both based on the creation of a forest of trees. These are referred to as ensemble learning algorithms. A random forest is created by combining a number of decision trees that use various variables or features and bagging techniques for data sampling. The AdaBoost algorithm is said to make decisions by employing a slew of decision stumps.\n",
        "\n",
        "AdaBoost is a machine learning algorithm that may be used to improve the performance of any other machine learning technique. It works well with students who are struggling. Decision trees with one level are the most suitable and hence most commonly used algorithm with AdaBoost.\n",
        "\n",
        "While coming to the other models TfIdf,  Word2Vec and BERT we are using neural network to which we are passing vector input and flattening it an then we are adding a dense layer with 128 logits and then using dropout layer and then we are adding a dense layer with softmax activation and logits equal to number of classes"
      ]
    }
  ],
  "metadata": {
    "colab": {
      "collapsed_sections": [],
      "name": "Amudala_Assignment_3.ipynb",
      "provenance": [],
      "include_colab_link": true
    },
    "kernelspec": {
      "display_name": "Python 3",
      "name": "python3"
    },
    "language_info": {
      "name": "python"
    }
  },
  "nbformat": 4,
  "nbformat_minor": 0
}